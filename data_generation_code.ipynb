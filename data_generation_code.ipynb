{
 "cells": [
  {
   "cell_type": "code",
   "execution_count": 1,
   "metadata": {
    "collapsed": false
   },
   "outputs": [],
   "source": [
    "# import modules for math and distributions\n",
    "from math import exp\n",
    "import numpy as np\n",
    "from scipy.stats import gamma, norm, uniform, bernoulli\n",
    "import pandas as pd\n",
    "import statsmodels.api as sm\n",
    "import rpy2"
   ]
  },
  {
   "cell_type": "code",
   "execution_count": 2,
   "metadata": {
    "collapsed": false
   },
   "outputs": [
    {
     "data": {
      "text/plain": [
       "array([ 4.25])"
      ]
     },
     "execution_count": 2,
     "metadata": {},
     "output_type": "execute_result"
    }
   ],
   "source": [
    "# load and try out R magic\n",
    "%load_ext rpy2.ipython\n",
    "%R X=c(1,4,5,7); sd(X); mean(X)"
   ]
  },
  {
   "cell_type": "code",
   "execution_count": 3,
   "metadata": {
    "collapsed": false
   },
   "outputs": [],
   "source": [
    "# define inverse logit function\n",
    "def logit_1(x): return(exp(x)/(1 + exp(x)))"
   ]
  },
  {
   "cell_type": "code",
   "execution_count": 4,
   "metadata": {
    "collapsed": false
   },
   "outputs": [],
   "source": [
    "# Initial set up according to HD2012\n",
    "T = 40 # time periods\n",
    "k = 5 # check-up times\n",
    "theta = [-0.405, 0.0205, -0.00405]\n",
    "gam = [-3, 0.05, -1.5, 0.1]"
   ]
  },
  {
   "cell_type": "code",
   "execution_count": 20,
   "metadata": {
    "collapsed": false
   },
   "outputs": [],
   "source": [
    "# make a function that does all of the above for an individual\n",
    "def sim(T, k, gam, theta, patid=0):\n",
    "    \n",
    "    # define lists for holding A, L, U and Y\n",
    "    A = np.zeros(T + 2) # A[-1] (last value) holds A in t = -1\n",
    "    L = np.zeros(T+1)\n",
    "    U = np.zeros(T+1)\n",
    "    Y = np.zeros(T + 2)\n",
    "    eps = np.zeros(T+1)\n",
    "    lam = np.zeros(T+1) # prob of failure at each time period\n",
    "    delta = np.zeros(T+1)\n",
    "\n",
    "    # set the first value of U, U[0], to a \n",
    "    # randomly generated value from a uniform\n",
    "    # distribution a measure of general health\n",
    "    U[0] = uniform.rvs()\n",
    "    eps[0] = norm.rvs(0, 20)\n",
    "    L[0] = gamma.ppf(U[0], 3, scale=154) + eps[0]\n",
    "\n",
    "    # set A[-1] to 0: held in last value of A\n",
    "    A[-1] = 0\n",
    "    \n",
    "    # set A[0]\n",
    "    A[0] = bernoulli.rvs(logit_1(theta[0] + theta[2] * (L[0] - 500)), size=1)\n",
    "    \n",
    "    if A[0] == 1:\n",
    "        Ts = 0 \n",
    "    else:\n",
    "        Ts = T + 20\n",
    "    \n",
    "    lam[0] = logit_1(gam[0] + gam[2] * A[0])\n",
    "    \n",
    "    if lam[0] >= U[0]:\n",
    "        Y[1] = 1\n",
    "    else:\n",
    "        Y[1] = 0\n",
    "    # loop through each time period - stop when patient is dead or t = T + 1\n",
    "    for t in range(1, T+1):\n",
    "        if Y[t] == 0:\n",
    "            delta[t] = norm.rvs(0, 0.05)\n",
    "            U[t] = min(1, max(0, U[t-1] + delta[t]))\n",
    "            if t % k != 0:\n",
    "                L[t] = L[t-1]\n",
    "                A[t] = A[t-1]\n",
    "            else:\n",
    "                eps[t] = norm.rvs(100 * (U[t] - 2), 50)\n",
    "                L[t] = max(0, L[t-1] + 150 * A[t-k] * (1-A[t-k-1]) + eps[t])\n",
    "                if A[t-1] == 0:\n",
    "                    A[t] = bernoulli.rvs(logit_1(theta[0] + theta[1] * t + theta[2] * (L[t] - 500)), size=1)\n",
    "                else:\n",
    "                    A[t] = 1\n",
    "                if A[t] == 1 and A[t-k] == 0: \n",
    "                    Ts = t\n",
    "            lam[t] = logit_1(gam[0] + gam[1] * ((1 - A[t]) * t + A[t] * Ts) + gam[2] * A[t] + gam[3] * A[t] *(t - Ts))\n",
    "            if (1 - np.prod(1 - lam)) >= U[0]:\n",
    "                Y[t + 1] = 1\n",
    "            else:\n",
    "                Y[t+1] = 0\n",
    "        else:\n",
    "            break\n",
    "    \n",
    "    #we only need the data before death, so whatever value t is before the end of the\n",
    "    #above loop - change this to numpy array and transpose.\n",
    "    Y = np.ndarray.tolist(Y[1:(t+1)])\n",
    "    U = np.ndarray.tolist(U[0:t])\n",
    "    L = np.ndarray.tolist(L[0:t])\n",
    "    A = np.ndarray.tolist(A[0:t])\n",
    "    Ts = [Ts]*t\n",
    "\n",
    "    df = np.vstack((Y, L, U, A, Ts))\n",
    "    df = pd.DataFrame(df.T, columns=['Y', 'L', 'U', 'A', 'Ts'])\n",
    "    df['Y'] = df['Y'].astype(int)\n",
    "    df['A'] = df['A'].astype(int)\n",
    "    df['patid'] = patid\n",
    "    df.index.name = 'visit'\n",
    "    return df.reset_index()"
   ]
  },
  {
   "cell_type": "code",
   "execution_count": 21,
   "metadata": {
    "collapsed": false
   },
   "outputs": [],
   "source": [
    "# use sim function to make a pandas DF for n patients\n",
    "import pandas as pd\n",
    "n = 1000\n",
    "frames = [sim(T, k, gam, theta, patid=i) for i in range(n)]\n",
    "df = pd.concat(frames)"
   ]
  },
  {
   "cell_type": "code",
   "execution_count": 22,
   "metadata": {
    "collapsed": false
   },
   "outputs": [],
   "source": [
    "# make new variables for the logit regression\n",
    "# including an intercept\n",
    "df[\"d1\"] = df[[\"visit\", \"Ts\"]].min(axis = 1)\n",
    "df[\"time_Ts\"] = df[\"visit\"] - df[\"Ts\"]\n",
    "df[\"d3\"] = np.maximum(df[\"time_Ts\"], 0)\n",
    "df[\"intercept\"] = 1.0\n",
    "df = df.set_index(['patid', 'visit'])\n",
    "df = df.sortlevel()"
   ]
  },
  {
   "cell_type": "code",
   "execution_count": 8,
   "metadata": {
    "collapsed": false
   },
   "outputs": [],
   "source": [
    "#df.loc[(2,slice(None)),:] # gets patient 3"
   ]
  },
  {
   "cell_type": "code",
   "execution_count": 23,
   "metadata": {
    "collapsed": false
   },
   "outputs": [],
   "source": [
    "# get the previous value of A, and set first value of A_1 per patient to zero.\n",
    "df['A_1'] = df.groupby(level=\"patid\")['A'].shift(1)\n",
    "df['A_1'] = df['A_1'].fillna(0)"
   ]
  },
  {
   "cell_type": "code",
   "execution_count": 24,
   "metadata": {
    "collapsed": false
   },
   "outputs": [
    {
     "ename": "KeyError",
     "evalue": "\"['visit'] not in index\"",
     "output_type": "error",
     "traceback": [
      "\u001b[0;31m---------------------------------------------------------------------------\u001b[0m",
      "\u001b[0;31mKeyError\u001b[0m                                  Traceback (most recent call last)",
      "\u001b[0;32m<ipython-input-24-36d1d2c00692>\u001b[0m in \u001b[0;36m<module>\u001b[0;34m()\u001b[0m\n\u001b[1;32m      7\u001b[0m \u001b[1;31m#numerator\u001b[0m\u001b[1;33m\u001b[0m\u001b[1;33m\u001b[0m\u001b[0m\n\u001b[1;32m      8\u001b[0m \u001b[0mn_reg\u001b[0m \u001b[1;33m=\u001b[0m \u001b[1;33m[\u001b[0m\u001b[1;34m\"intercept\"\u001b[0m\u001b[1;33m,\u001b[0m \u001b[1;34m\"visit\"\u001b[0m\u001b[1;33m]\u001b[0m\u001b[1;33m\u001b[0m\u001b[0m\n\u001b[0;32m----> 9\u001b[0;31m \u001b[0mn_logit\u001b[0m \u001b[1;33m=\u001b[0m \u001b[0msm\u001b[0m\u001b[1;33m.\u001b[0m\u001b[0mLogit\u001b[0m\u001b[1;33m(\u001b[0m\u001b[0mdf2\u001b[0m\u001b[1;33m[\u001b[0m\u001b[1;34m'A'\u001b[0m\u001b[1;33m]\u001b[0m\u001b[1;33m,\u001b[0m \u001b[0mdf2\u001b[0m\u001b[1;33m[\u001b[0m\u001b[0mn_reg\u001b[0m\u001b[1;33m]\u001b[0m\u001b[1;33m)\u001b[0m\u001b[1;33m\u001b[0m\u001b[0m\n\u001b[0m\u001b[1;32m     10\u001b[0m \u001b[0mn_result\u001b[0m \u001b[1;33m=\u001b[0m \u001b[0mn_logit\u001b[0m\u001b[1;33m.\u001b[0m\u001b[0mfit\u001b[0m\u001b[1;33m(\u001b[0m\u001b[0mmaxiter\u001b[0m\u001b[1;33m=\u001b[0m\u001b[1;36m100\u001b[0m\u001b[1;33m)\u001b[0m\u001b[1;33m\u001b[0m\u001b[0m\n\u001b[1;32m     11\u001b[0m \u001b[0mn_result\u001b[0m\u001b[1;33m.\u001b[0m\u001b[0msummary\u001b[0m\u001b[1;33m(\u001b[0m\u001b[1;33m)\u001b[0m\u001b[1;33m\u001b[0m\u001b[0m\n",
      "\u001b[0;32mC:\\Users\\morle001\\AppData\\Local\\Continuum\\Anaconda3\\lib\\site-packages\\pandas\\core\\frame.py\u001b[0m in \u001b[0;36m__getitem__\u001b[0;34m(self, key)\u001b[0m\n\u001b[1;32m   2051\u001b[0m         \u001b[1;32mif\u001b[0m \u001b[0misinstance\u001b[0m\u001b[1;33m(\u001b[0m\u001b[0mkey\u001b[0m\u001b[1;33m,\u001b[0m \u001b[1;33m(\u001b[0m\u001b[0mSeries\u001b[0m\u001b[1;33m,\u001b[0m \u001b[0mnp\u001b[0m\u001b[1;33m.\u001b[0m\u001b[0mndarray\u001b[0m\u001b[1;33m,\u001b[0m \u001b[0mIndex\u001b[0m\u001b[1;33m,\u001b[0m \u001b[0mlist\u001b[0m\u001b[1;33m)\u001b[0m\u001b[1;33m)\u001b[0m\u001b[1;33m:\u001b[0m\u001b[1;33m\u001b[0m\u001b[0m\n\u001b[1;32m   2052\u001b[0m             \u001b[1;31m# either boolean or fancy integer index\u001b[0m\u001b[1;33m\u001b[0m\u001b[1;33m\u001b[0m\u001b[0m\n\u001b[0;32m-> 2053\u001b[0;31m             \u001b[1;32mreturn\u001b[0m \u001b[0mself\u001b[0m\u001b[1;33m.\u001b[0m\u001b[0m_getitem_array\u001b[0m\u001b[1;33m(\u001b[0m\u001b[0mkey\u001b[0m\u001b[1;33m)\u001b[0m\u001b[1;33m\u001b[0m\u001b[0m\n\u001b[0m\u001b[1;32m   2054\u001b[0m         \u001b[1;32melif\u001b[0m \u001b[0misinstance\u001b[0m\u001b[1;33m(\u001b[0m\u001b[0mkey\u001b[0m\u001b[1;33m,\u001b[0m \u001b[0mDataFrame\u001b[0m\u001b[1;33m)\u001b[0m\u001b[1;33m:\u001b[0m\u001b[1;33m\u001b[0m\u001b[0m\n\u001b[1;32m   2055\u001b[0m             \u001b[1;32mreturn\u001b[0m \u001b[0mself\u001b[0m\u001b[1;33m.\u001b[0m\u001b[0m_getitem_frame\u001b[0m\u001b[1;33m(\u001b[0m\u001b[0mkey\u001b[0m\u001b[1;33m)\u001b[0m\u001b[1;33m\u001b[0m\u001b[0m\n",
      "\u001b[0;32mC:\\Users\\morle001\\AppData\\Local\\Continuum\\Anaconda3\\lib\\site-packages\\pandas\\core\\frame.py\u001b[0m in \u001b[0;36m_getitem_array\u001b[0;34m(self, key)\u001b[0m\n\u001b[1;32m   2095\u001b[0m             \u001b[1;32mreturn\u001b[0m \u001b[0mself\u001b[0m\u001b[1;33m.\u001b[0m\u001b[0mtake\u001b[0m\u001b[1;33m(\u001b[0m\u001b[0mindexer\u001b[0m\u001b[1;33m,\u001b[0m \u001b[0maxis\u001b[0m\u001b[1;33m=\u001b[0m\u001b[1;36m0\u001b[0m\u001b[1;33m,\u001b[0m \u001b[0mconvert\u001b[0m\u001b[1;33m=\u001b[0m\u001b[1;32mFalse\u001b[0m\u001b[1;33m)\u001b[0m\u001b[1;33m\u001b[0m\u001b[0m\n\u001b[1;32m   2096\u001b[0m         \u001b[1;32melse\u001b[0m\u001b[1;33m:\u001b[0m\u001b[1;33m\u001b[0m\u001b[0m\n\u001b[0;32m-> 2097\u001b[0;31m             \u001b[0mindexer\u001b[0m \u001b[1;33m=\u001b[0m \u001b[0mself\u001b[0m\u001b[1;33m.\u001b[0m\u001b[0mix\u001b[0m\u001b[1;33m.\u001b[0m\u001b[0m_convert_to_indexer\u001b[0m\u001b[1;33m(\u001b[0m\u001b[0mkey\u001b[0m\u001b[1;33m,\u001b[0m \u001b[0maxis\u001b[0m\u001b[1;33m=\u001b[0m\u001b[1;36m1\u001b[0m\u001b[1;33m)\u001b[0m\u001b[1;33m\u001b[0m\u001b[0m\n\u001b[0m\u001b[1;32m   2098\u001b[0m             \u001b[1;32mreturn\u001b[0m \u001b[0mself\u001b[0m\u001b[1;33m.\u001b[0m\u001b[0mtake\u001b[0m\u001b[1;33m(\u001b[0m\u001b[0mindexer\u001b[0m\u001b[1;33m,\u001b[0m \u001b[0maxis\u001b[0m\u001b[1;33m=\u001b[0m\u001b[1;36m1\u001b[0m\u001b[1;33m,\u001b[0m \u001b[0mconvert\u001b[0m\u001b[1;33m=\u001b[0m\u001b[1;32mTrue\u001b[0m\u001b[1;33m)\u001b[0m\u001b[1;33m\u001b[0m\u001b[0m\n\u001b[1;32m   2099\u001b[0m \u001b[1;33m\u001b[0m\u001b[0m\n",
      "\u001b[0;32mC:\\Users\\morle001\\AppData\\Local\\Continuum\\Anaconda3\\lib\\site-packages\\pandas\\core\\indexing.py\u001b[0m in \u001b[0;36m_convert_to_indexer\u001b[0;34m(self, obj, axis, is_setter)\u001b[0m\n\u001b[1;32m   1228\u001b[0m                 \u001b[0mmask\u001b[0m \u001b[1;33m=\u001b[0m \u001b[0mcheck\u001b[0m \u001b[1;33m==\u001b[0m \u001b[1;33m-\u001b[0m\u001b[1;36m1\u001b[0m\u001b[1;33m\u001b[0m\u001b[0m\n\u001b[1;32m   1229\u001b[0m                 \u001b[1;32mif\u001b[0m \u001b[0mmask\u001b[0m\u001b[1;33m.\u001b[0m\u001b[0many\u001b[0m\u001b[1;33m(\u001b[0m\u001b[1;33m)\u001b[0m\u001b[1;33m:\u001b[0m\u001b[1;33m\u001b[0m\u001b[0m\n\u001b[0;32m-> 1230\u001b[0;31m                     \u001b[1;32mraise\u001b[0m \u001b[0mKeyError\u001b[0m\u001b[1;33m(\u001b[0m\u001b[1;34m'%s not in index'\u001b[0m \u001b[1;33m%\u001b[0m \u001b[0mobjarr\u001b[0m\u001b[1;33m[\u001b[0m\u001b[0mmask\u001b[0m\u001b[1;33m]\u001b[0m\u001b[1;33m)\u001b[0m\u001b[1;33m\u001b[0m\u001b[0m\n\u001b[0m\u001b[1;32m   1231\u001b[0m \u001b[1;33m\u001b[0m\u001b[0m\n\u001b[1;32m   1232\u001b[0m                 \u001b[1;32mreturn\u001b[0m \u001b[0m_values_from_object\u001b[0m\u001b[1;33m(\u001b[0m\u001b[0mindexer\u001b[0m\u001b[1;33m)\u001b[0m\u001b[1;33m\u001b[0m\u001b[0m\n",
      "\u001b[0;31mKeyError\u001b[0m: \"['visit'] not in index\""
     ]
    }
   ],
   "source": [
    "# logistic regression model to get parameters to calcualte weights\n",
    "# for both the denominator (d) and the numerator (n)\n",
    "df[\"As\"] = df.groupby(level=\"patid\")['A'].cumsum()\n",
    "df2 = df[df[\"As\"] <= 1].copy(deep=True)\n",
    "# df2.groupby('A')['A_1'].value_counts()\n",
    "\n",
    "#numerator\n",
    "n_reg = [\"intercept\"]\n",
    "n_logit = sm.Logit(df2['A'], df2[n_reg])\n",
    "n_result = n_logit.fit(maxiter=100)\n",
    "n_result.summary()\n",
    "\n",
    "# denominator\n",
    "d_reg = [\"intercept\", \"L\"]\n",
    "d_logit = sm.Logit(df2['A'], df2[d_reg])\n",
    "d_result = d_logit.fit(maxiter=100)\n",
    "d_result.summary()\n",
    "\n",
    "# numerator and denominator probabailities\n",
    "df2[\"pn\"] = n_result.predict(df2[n_reg])\n",
    "df2[\"pd\"] = d_result.predict(df2[d_reg])\n",
    "\n",
    "# if A == 0, change probabilities to 1 - prob\n",
    "df2['pn2'] = np.where(df2['A']==0, (1 - df2[\"pn\"]), df2[\"pn\"])\n",
    "df2['pd2'] = np.where(df2['A']==0, (1 - df2[\"pd\"]), df2[\"pd\"])\n",
    "\n",
    "# construct stabilized weights, don't forget to group by\n",
    "df2['cpn'] = df2.groupby(df2.index.get_level_values(0))['pn2'].cumprod()\n",
    "df2['cpd'] = df2.groupby(df2.index.get_level_values(0))['pd2'].cumprod()\n",
    "df2['sw'] = df2['cpn']/df2['cpd']\n",
    "\n",
    "#combine df and df2\n",
    "df[\"sw\"] = np.nan\n",
    "df[\"sw2\"] = np.nan\n",
    "df.loc[df2.index, \"sw\"] = df2[\"sw\"]\n",
    "df[\"sw\"] = df[\"sw\"].fillna(method=\"pad\")\n",
    "\n",
    "# try terminal weight\n",
    "def func(x):\n",
    "    x[\"sw2\"] = x.iloc[-1][\"sw\"]\n",
    "    return x\n",
    "\n",
    "df = df.groupby(level=\"patid\").apply(func)\n",
    "df.loc[(4,slice(None)),:]"
   ]
  },
  {
   "cell_type": "code",
   "execution_count": 11,
   "metadata": {
    "collapsed": false
   },
   "outputs": [
    {
     "data": {
      "text/html": [
       "<div>\n",
       "<table border=\"1\" class=\"dataframe\">\n",
       "  <thead>\n",
       "    <tr style=\"text-align: right;\">\n",
       "      <th></th>\n",
       "      <th>Y</th>\n",
       "      <th>L</th>\n",
       "      <th>U</th>\n",
       "      <th>A</th>\n",
       "      <th>Ts</th>\n",
       "      <th>d1</th>\n",
       "      <th>time_Ts</th>\n",
       "      <th>d3</th>\n",
       "      <th>intercept</th>\n",
       "      <th>A_1</th>\n",
       "      <th>As</th>\n",
       "      <th>sw</th>\n",
       "      <th>sw2</th>\n",
       "    </tr>\n",
       "  </thead>\n",
       "  <tbody>\n",
       "    <tr>\n",
       "      <th>(0, 0)</th>\n",
       "      <td>0</td>\n",
       "      <td>330.385845</td>\n",
       "      <td>0.378685</td>\n",
       "      <td>0</td>\n",
       "      <td>5.0</td>\n",
       "      <td>0.0</td>\n",
       "      <td>-5.0</td>\n",
       "      <td>0.0</td>\n",
       "      <td>1.0</td>\n",
       "      <td>0.0</td>\n",
       "      <td>0</td>\n",
       "      <td>1.128333</td>\n",
       "      <td>0.692056</td>\n",
       "    </tr>\n",
       "    <tr>\n",
       "      <th>(0, 1)</th>\n",
       "      <td>0</td>\n",
       "      <td>330.385845</td>\n",
       "      <td>0.518255</td>\n",
       "      <td>0</td>\n",
       "      <td>5.0</td>\n",
       "      <td>1.0</td>\n",
       "      <td>-4.0</td>\n",
       "      <td>0.0</td>\n",
       "      <td>1.0</td>\n",
       "      <td>0.0</td>\n",
       "      <td>0</td>\n",
       "      <td>1.273135</td>\n",
       "      <td>0.692056</td>\n",
       "    </tr>\n",
       "    <tr>\n",
       "      <th>(0, 2)</th>\n",
       "      <td>0</td>\n",
       "      <td>330.385845</td>\n",
       "      <td>0.514588</td>\n",
       "      <td>0</td>\n",
       "      <td>5.0</td>\n",
       "      <td>2.0</td>\n",
       "      <td>-3.0</td>\n",
       "      <td>0.0</td>\n",
       "      <td>1.0</td>\n",
       "      <td>0.0</td>\n",
       "      <td>0</td>\n",
       "      <td>1.436520</td>\n",
       "      <td>0.692056</td>\n",
       "    </tr>\n",
       "    <tr>\n",
       "      <th>(0, 3)</th>\n",
       "      <td>0</td>\n",
       "      <td>330.385845</td>\n",
       "      <td>0.513617</td>\n",
       "      <td>0</td>\n",
       "      <td>5.0</td>\n",
       "      <td>3.0</td>\n",
       "      <td>-2.0</td>\n",
       "      <td>0.0</td>\n",
       "      <td>1.0</td>\n",
       "      <td>0.0</td>\n",
       "      <td>0</td>\n",
       "      <td>1.620872</td>\n",
       "      <td>0.692056</td>\n",
       "    </tr>\n",
       "    <tr>\n",
       "      <th>(0, 4)</th>\n",
       "      <td>0</td>\n",
       "      <td>330.385845</td>\n",
       "      <td>0.498619</td>\n",
       "      <td>0</td>\n",
       "      <td>5.0</td>\n",
       "      <td>4.0</td>\n",
       "      <td>-1.0</td>\n",
       "      <td>0.0</td>\n",
       "      <td>1.0</td>\n",
       "      <td>0.0</td>\n",
       "      <td>0</td>\n",
       "      <td>1.828884</td>\n",
       "      <td>0.692056</td>\n",
       "    </tr>\n",
       "    <tr>\n",
       "      <th>(0, 5)</th>\n",
       "      <td>0</td>\n",
       "      <td>204.663540</td>\n",
       "      <td>0.452771</td>\n",
       "      <td>1</td>\n",
       "      <td>5.0</td>\n",
       "      <td>5.0</td>\n",
       "      <td>0.0</td>\n",
       "      <td>0.0</td>\n",
       "      <td>1.0</td>\n",
       "      <td>0.0</td>\n",
       "      <td>1</td>\n",
       "      <td>0.692056</td>\n",
       "      <td>0.692056</td>\n",
       "    </tr>\n",
       "  </tbody>\n",
       "</table>\n",
       "</div>"
      ],
      "text/plain": [
       "        Y           L         U  A   Ts   d1  time_Ts   d3  intercept  A_1  \\\n",
       "(0, 0)  0  330.385845  0.378685  0  5.0  0.0     -5.0  0.0        1.0  0.0   \n",
       "(0, 1)  0  330.385845  0.518255  0  5.0  1.0     -4.0  0.0        1.0  0.0   \n",
       "(0, 2)  0  330.385845  0.514588  0  5.0  2.0     -3.0  0.0        1.0  0.0   \n",
       "(0, 3)  0  330.385845  0.513617  0  5.0  3.0     -2.0  0.0        1.0  0.0   \n",
       "(0, 4)  0  330.385845  0.498619  0  5.0  4.0     -1.0  0.0        1.0  0.0   \n",
       "(0, 5)  0  204.663540  0.452771  1  5.0  5.0      0.0  0.0        1.0  0.0   \n",
       "\n",
       "        As        sw       sw2  \n",
       "(0, 0)   0  1.128333  0.692056  \n",
       "(0, 1)   0  1.273135  0.692056  \n",
       "(0, 2)   0  1.436520  0.692056  \n",
       "(0, 3)   0  1.620872  0.692056  \n",
       "(0, 4)   0  1.828884  0.692056  \n",
       "(0, 5)   1  0.692056  0.692056  "
      ]
     },
     "execution_count": 11,
     "metadata": {},
     "output_type": "execute_result"
    }
   ],
   "source": [
    "# pushes variables from python to rpy2\n",
    "%Rpush df\n",
    "%R head(df)"
   ]
  },
  {
   "cell_type": "code",
   "execution_count": 12,
   "metadata": {
    "collapsed": false
   },
   "outputs": [],
   "source": [
    "%R mod = glm(Y ~ d1 + A + d3, data =df, family = binomial(\"logit\"))\n",
    "%R mod_sw = glm(Y ~ d1 + A + d3, weights = sw, data =df, family = binomial(\"logit\"))\n",
    "%R mod_sw2 = glm(Y ~ d1 + A + d3, weights = sw2, data =df, family = binomial(\"logit\"))\n",
    "%Rpull mod\n",
    "%Rpull mod_sw\n",
    "%Rpull mod_sw2"
   ]
  },
  {
   "cell_type": "code",
   "execution_count": 13,
   "metadata": {
    "collapsed": false
   },
   "outputs": [
    {
     "name": "stdout",
     "output_type": "stream",
     "text": [
      "\n",
      "\r\n",
      "Call:  glm(formula = Y ~ d1 + A + d3, family = binomial(logit), data = df)\n",
      "\r\n",
      "\n",
      "\r\n",
      "Coefficients:\n",
      "\r\n",
      "(Intercept)           d1            A           d3  \n",
      "\r\n",
      "  -3.714803     0.004844    -0.312654     0.109301  \n",
      "\r\n",
      "\n",
      "\r\n",
      "Degrees of Freedom: 19023 Total (i.e. Null);  19020 Residual\n",
      "\r\n",
      "Null Deviance:\t    7669 \n",
      "\r\n",
      "Residual Deviance: 7036 \tAIC: 7044\n",
      "\n",
      "\n",
      "\r\n",
      "Call:  glm(formula = Y ~ d1 + A + d3, family = binomial(logit), data = df, \n",
      "\r\n",
      "    weights = sw)\n",
      "\r\n",
      "\n",
      "\r\n",
      "Coefficients:\n",
      "\r\n",
      "(Intercept)           d1            A           d3  \n",
      "\r\n",
      "   -2.51496      0.06424     -2.32724      0.10165  \n",
      "\r\n",
      "\n",
      "\r\n",
      "Degrees of Freedom: 19023 Total (i.e. Null);  19020 Residual\n",
      "\r\n",
      "Null Deviance:\t    8577 \n",
      "\r\n",
      "Residual Deviance: 7858 \tAIC: 7764\n",
      "\n",
      "\n",
      "\r\n",
      "Call:  glm(formula = Y ~ d1 + A + d3, family = binomial(logit), data = df, \n",
      "\r\n",
      "    weights = sw2)\n",
      "\r\n",
      "\n",
      "\r\n",
      "Coefficients:\n",
      "\r\n",
      "(Intercept)           d1            A           d3  \n",
      "\r\n",
      "   -2.70494      0.06885     -2.15977      0.10207  \n",
      "\r\n",
      "\n",
      "\r\n",
      "Degrees of Freedom: 19023 Total (i.e. Null);  19020 Residual\n",
      "\r\n",
      "Null Deviance:\t    8672 \n",
      "\r\n",
      "Residual Deviance: 8005 \tAIC: 7905\n",
      "\n"
     ]
    }
   ],
   "source": [
    "print(mod)\n",
    "print(mod_sw)\n",
    "print(mod_sw2)"
   ]
  }
 ],
 "metadata": {
  "kernelspec": {
   "display_name": "Python 3",
   "language": "python",
   "name": "python3"
  },
  "language_info": {
   "codemirror_mode": {
    "name": "ipython",
    "version": 3
   },
   "file_extension": ".py",
   "mimetype": "text/x-python",
   "name": "python",
   "nbconvert_exporter": "python",
   "pygments_lexer": "ipython3",
   "version": "3.6.0"
  }
 },
 "nbformat": 4,
 "nbformat_minor": 2
}
