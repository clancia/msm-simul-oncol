{
 "cells": [
  {
   "cell_type": "code",
   "execution_count": 39,
   "metadata": {
    "collapsed": true
   },
   "outputs": [],
   "source": [
    "# import modules for math and distributions\n",
    "from math import exp\n",
    "import numpy as np\n",
    "from scipy.stats import gamma, norm, uniform, bernoulli"
   ]
  },
  {
   "cell_type": "code",
   "execution_count": 40,
   "metadata": {
    "collapsed": false
   },
   "outputs": [],
   "source": [
    "# define inverse logit function\n",
    "def logit_1(x): return(exp(x)/(1 + exp(x)))"
   ]
  },
  {
   "cell_type": "code",
   "execution_count": 41,
   "metadata": {
    "collapsed": false
   },
   "outputs": [],
   "source": [
    "# Initial set up according to HD2012\n",
    "T = 40 # time periods\n",
    "k = 5 # check-up times\n",
    "theta = [-0.405, 0.0205, -0.00405]\n",
    "gam = [-3, 0.005, -1.5, 0.1]"
   ]
  },
  {
   "cell_type": "code",
   "execution_count": 42,
   "metadata": {
    "collapsed": false
   },
   "outputs": [],
   "source": [
    "# define lists for holding A, L, U and Y\n",
    "A = np.zeros(T + 1) # A[-1] holds the value for A in t = -1\n",
    "L = np.zeros(T)\n",
    "U = np.zeros(T)\n",
    "Y = np.zeros(T + 1)\n",
    "eps = np.zeros(T)\n",
    "lam = np.zeros(T) # prob of failure at each time period\n",
    "delta = np.zeros(T)\n",
    "\n",
    "# set the first value of U, U[0], to a \n",
    "# randomly generated value from a uniform\n",
    "# distribution a measure of general health\n",
    "U[0] = uniform.rvs()\n",
    "eps[0] = norm.rvs(0, 20)\n",
    "L[0] = gamma.ppf(U[0], 3, 154)\n",
    "\n",
    "# set A[-1] to 0\n",
    "A[-1] = 0\n",
    "x = logit_1(theta[0] + theta[2] * (L[0] - 500))\n",
    "A[0] = bernoulli.rvs(x, size=1)"
   ]
  },
  {
   "cell_type": "code",
   "execution_count": 43,
   "metadata": {
    "collapsed": false
   },
   "outputs": [],
   "source": [
    "if A[0] == 1: Ts = 0"
   ]
  },
  {
   "cell_type": "code",
   "execution_count": 44,
   "metadata": {
    "collapsed": false
   },
   "outputs": [],
   "source": [
    "lam[0] = logit_1(gam[0] + gam[2] * A[0])"
   ]
  },
  {
   "cell_type": "code",
   "execution_count": 45,
   "metadata": {
    "collapsed": false
   },
   "outputs": [],
   "source": [
    "if lam[0] >= U[0]:\n",
    "    Y[1] = 1\n",
    "else:\n",
    "    Y[1] = 0"
   ]
  },
  {
   "cell_type": "code",
   "execution_count": 46,
   "metadata": {
    "collapsed": false
   },
   "outputs": [],
   "source": [
    "# loop for each individual\n",
    "for t in range(1, T):\n",
    "    if Y[t] == 0:\n",
    "        delta[t] = norm.rvs(0, 0.05)\n",
    "        U[t] = min(1, max(0, U[t-1] + delta[t]))\n",
    "        if t % k != 0:\n",
    "            L[t] = L[t-1]\n",
    "            A[t] = A[t-1]\n",
    "        else:\n",
    "            eps[1] = norm.rvs(100 * (U[t] - 2), 50)\n",
    "            L[t] = max(0, L[t-1] + 150 * A[t-k] * (A[t-k-1]) + eps[t])\n",
    "            if A[t-1] == 0:\n",
    "                A[t] = bernoulli.rvs(logit_1(theta[0] + theta[1] * t + theta[2] * (L[t] - 500)), size=1)\n",
    "            else:\n",
    "                A[t] = 1\n",
    "            if A[t] == 1 and A[t-k] == 0: Ts = t\n",
    "        lam[t] = logit_1(gam[0] + gam[1] * ((1 - A[t]) * t + A[t] * Ts) + gam[2] * A[t] + gam[3] * A[t] *(t - Ts))\n",
    "        if (1 - np.prod(1 - lam)) >= U[0]:\n",
    "            Y[t + 1] = 1\n",
    "        else:\n",
    "            Y[t + 1] = 0\n",
    "    else:\n",
    "        break\n",
    "\n",
    "     "
   ]
  },
  {
   "cell_type": "code",
   "execution_count": 131,
   "metadata": {
    "collapsed": false
   },
   "outputs": [],
   "source": [
    "# make a function that does all of the above for an individual\n",
    "def sim(T, k, gam, theta):\n",
    "    \n",
    "    # define lists for holding A, L, U and Y\n",
    "    A = np.zeros(T + 1) # A[-1] holds the value for A in t = -1\n",
    "    L = np.zeros(T)\n",
    "    U = np.zeros(T)\n",
    "    Y = np.zeros(T + 1)\n",
    "    eps = np.zeros(T)\n",
    "    lam = np.zeros(T) # prob of failure at each time period\n",
    "    delta = np.zeros(T)\n",
    "\n",
    "    # set the first value of U, U[0], to a \n",
    "    # randomly generated value from a uniform\n",
    "    # distribution a measure of general health\n",
    "    U[0] = uniform.rvs()\n",
    "    eps[0] = norm.rvs(0, 20)\n",
    "    L[0] = gamma.ppf(U[0], 3, 154)\n",
    "\n",
    "    # set A[-1] to 0\n",
    "    A[-1] = 0\n",
    "    x = logit_1(theta[0] + theta[2] * (L[0] - 500))\n",
    "    A[0] = bernoulli.rvs(x, size=1)\n",
    "    \n",
    "    # if A[0] == 1: Ts = 0 check\n",
    "    Ts = 0\n",
    "    \n",
    "    lam[0] = logit_1(gam[0] + gam[2] * A[0])\n",
    "    \n",
    "    if lam[0] >= U[0]:\n",
    "        Y[1] = 1\n",
    "    else:\n",
    "        Y[1] = 0\n",
    "    # loop through each time period - stop when patient is dead or t = T + 1\n",
    "    for t in range(1, T):\n",
    "        if Y[t] == 0:\n",
    "            delta[t] = norm.rvs(0, 0.05)\n",
    "            U[t] = min(1, max(0, U[t-1] + delta[t]))\n",
    "            if t % k != 0:\n",
    "                L[t] = L[t-1]\n",
    "                A[t] = A[t-1]\n",
    "            else:\n",
    "                eps[1] = norm.rvs(100 * (U[t] - 2), 50)\n",
    "                L[t] = max(0, L[t-1] + 150 * A[t-k] * (A[t-k-1]) + eps[t])\n",
    "                if A[t-1] == 0:\n",
    "                    A[t] = bernoulli.rvs(logit_1(theta[0] + theta[1] * t + theta[2] * (L[t] - 500)), size=1)\n",
    "                else:\n",
    "                    A[t] = 1\n",
    "                if A[t] == 1 and A[t-k] == 0: Ts = t\n",
    "            lam[t] = logit_1(gam[0] + gam[1] * ((1 - A[t]) * t + A[t] * Ts) + gam[2] * A[t] + gam[3] * A[t] *(t - Ts))\n",
    "            if (1 - np.prod(1 - lam)) >= U[0]:\n",
    "                Y[t + 1] = 1\n",
    "            else:\n",
    "                Y[t + 1] = 0\n",
    "        else:\n",
    "            break\n",
    "\n",
    "    return({\"Y\":Y[0:t], \"U\":U[0:t], \"L\":L[0:t], \"A\":A[0:t]}, Ts, t)"
   ]
  },
  {
   "cell_type": "code",
   "execution_count": 127,
   "metadata": {
    "collapsed": false
   },
   "outputs": [
    {
     "data": {
      "text/plain": [
       "({'A': array([ 0.,  0.,  0.,  0.,  0.,  1.,  1.,  1.,  1.,  1.,  1.,  1.,  1.,\n",
       "          1.,  1.,  1.,  1.,  1.,  1.,  1.,  1.,  1.,  1.,  1.,  1.,  1.]),\n",
       "  'L': array([ 157.25516759,  157.25516759,  157.25516759,  157.25516759,\n",
       "          157.25516759,  157.25516759,  157.25516759,  157.25516759,\n",
       "          157.25516759,  157.25516759,  157.25516759,  157.25516759,\n",
       "          157.25516759,  157.25516759,  157.25516759,  307.25516759,\n",
       "          307.25516759,  307.25516759,  307.25516759,  307.25516759,\n",
       "          457.25516759,  457.25516759,  457.25516759,  457.25516759,\n",
       "          457.25516759,  607.25516759]),\n",
       "  'U': array([ 0.63149048,  0.69551585,  0.7305897 ,  0.72877529,  0.7815417 ,\n",
       "          0.8111444 ,  0.70159982,  0.66534657,  0.67113788,  0.644754  ,\n",
       "          0.65123663,  0.64485572,  0.65860244,  0.64767762,  0.60122149,\n",
       "          0.67529883,  0.65335784,  0.69242006,  0.6781198 ,  0.60813949,\n",
       "          0.66563972,  0.69812704,  0.53637643,  0.57151967,  0.61668876,\n",
       "          0.56441008]),\n",
       "  'Y': array([ 0.,  0.,  0.,  0.,  0.,  0.,  0.,  0.,  0.,  0.,  0.,  0.,  0.,\n",
       "          0.,  0.,  0.,  0.,  0.,  0.,  0.,  0.,  0.,  0.,  0.,  0.,  0.])},\n",
       " 5,\n",
       " 26)"
      ]
     },
     "execution_count": 127,
     "metadata": {},
     "output_type": "execute_result"
    }
   ],
   "source": [
    "sim(T, k, gam, theta)"
   ]
  },
  {
   "cell_type": "code",
   "execution_count": 129,
   "metadata": {
    "collapsed": true
   },
   "outputs": [],
   "source": [
    "import pandas as pd"
   ]
  },
  {
   "cell_type": "code",
   "execution_count": 153,
   "metadata": {
    "collapsed": false
   },
   "outputs": [
    {
     "name": "stdout",
     "output_type": "stream",
     "text": [
      "0\n",
      "24\n"
     ]
    },
    {
     "ename": "AttributeError",
     "evalue": "module 'pandas' has no attribute 'series'",
     "output_type": "error",
     "traceback": [
      "\u001b[0;31m---------------------------------------------------------------------------\u001b[0m",
      "\u001b[0;31mAttributeError\u001b[0m                            Traceback (most recent call last)",
      "\u001b[0;32m<ipython-input-153-6c7fbcacd4c2>\u001b[0m in \u001b[0;36m<module>\u001b[0;34m()\u001b[0m\n\u001b[1;32m      2\u001b[0m \u001b[0mprint\u001b[0m\u001b[1;33m(\u001b[0m\u001b[0mTs\u001b[0m\u001b[1;33m)\u001b[0m\u001b[1;33m\u001b[0m\u001b[0m\n\u001b[1;32m      3\u001b[0m \u001b[0mprint\u001b[0m\u001b[1;33m(\u001b[0m\u001b[0mt\u001b[0m\u001b[1;33m)\u001b[0m\u001b[1;33m\u001b[0m\u001b[0m\n\u001b[0;32m----> 4\u001b[0;31m \u001b[0mpd\u001b[0m\u001b[1;33m.\u001b[0m\u001b[0mseries\u001b[0m\u001b[1;33m(\u001b[0m\u001b[0md\u001b[0m\u001b[1;33m.\u001b[0m\u001b[0mitems\u001b[0m\u001b[1;33m(\u001b[0m\u001b[1;33m)\u001b[0m\u001b[1;33m)\u001b[0m\u001b[1;33m\u001b[0m\u001b[0m\n\u001b[0m",
      "\u001b[0;31mAttributeError\u001b[0m: module 'pandas' has no attribute 'series'"
     ]
    }
   ],
   "source": [
    "d, Ts, t = sim(T, k, gam, theta)\n",
    "print(Ts)\n",
    "print(t)\n",
    "pd.series(d.items())"
   ]
  }
 ],
 "metadata": {
  "kernelspec": {
   "display_name": "Python 3",
   "language": "python",
   "name": "python3"
  },
  "language_info": {
   "codemirror_mode": {
    "name": "ipython",
    "version": 3
   },
   "file_extension": ".py",
   "mimetype": "text/x-python",
   "name": "python",
   "nbconvert_exporter": "python",
   "pygments_lexer": "ipython3",
   "version": "3.6.0"
  }
 },
 "nbformat": 4,
 "nbformat_minor": 2
}
