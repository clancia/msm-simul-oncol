{
 "cells": [
  {
   "cell_type": "code",
   "execution_count": 147,
   "metadata": {
    "collapsed": true
   },
   "outputs": [],
   "source": [
    "# import modules for math and distributions\n",
    "from math import exp\n",
    "import numpy as np\n",
    "from scipy.stats import gamma, norm, uniform, bernoulli"
   ]
  },
  {
   "cell_type": "code",
   "execution_count": 148,
   "metadata": {
    "collapsed": false
   },
   "outputs": [],
   "source": [
    "# define inverse logit function\n",
    "def logit_1(x): return(exp(x)/(1 + exp(x)))"
   ]
  },
  {
   "cell_type": "code",
   "execution_count": 149,
   "metadata": {
    "collapsed": false
   },
   "outputs": [],
   "source": [
    "# Initial set up according to HD2012\n",
    "T = 40 # time periods\n",
    "k = 5 # check-up times\n",
    "theta = [-0.405, 0.0205, -0.00405]\n",
    "gam = [-3, 0.05, -1.5, 0.1]"
   ]
  },
  {
   "cell_type": "code",
   "execution_count": 150,
   "metadata": {
    "collapsed": false
   },
   "outputs": [],
   "source": [
    "# define lists for holding A, L, U and Y\n",
    "A = np.zeros(T + 1) # A[-1] holds the value for A in t = -1\n",
    "L = np.zeros(T)\n",
    "U = np.zeros(T)\n",
    "Y = np.zeros(T + 1)\n",
    "eps = np.zeros(T)\n",
    "lam = np.zeros(T) # prob of failure at each time period\n",
    "delta = np.zeros(T)\n",
    "\n",
    "# set the first value of U, U[0], to a \n",
    "# randomly generated value from a uniform\n",
    "# distribution a measure of general health\n",
    "U[0] = uniform.rvs()\n",
    "eps[0] = norm.rvs(0, 20)\n",
    "L[0] = gamma.ppf(U[0], 3, 154)\n",
    "\n",
    "# set A[-1] to 0\n",
    "A[-1] = 0\n",
    "x = logit_1(theta[0] + theta[2] * (L[0] - 500))\n",
    "A[0] = bernoulli.rvs(x, size=1)"
   ]
  },
  {
   "cell_type": "code",
   "execution_count": 151,
   "metadata": {
    "collapsed": false
   },
   "outputs": [],
   "source": [
    "if A[0] == 1: Ts = 0"
   ]
  },
  {
   "cell_type": "code",
   "execution_count": 152,
   "metadata": {
    "collapsed": false
   },
   "outputs": [],
   "source": [
    "lam[0] = logit_1(gam[0] + gam[2] * A[0])"
   ]
  },
  {
   "cell_type": "code",
   "execution_count": 153,
   "metadata": {
    "collapsed": false
   },
   "outputs": [],
   "source": [
    "if lam[0] >= U[0]:\n",
    "    Y[1] = 1\n",
    "else:\n",
    "    Y[1] = 0"
   ]
  },
  {
   "cell_type": "code",
   "execution_count": 154,
   "metadata": {
    "collapsed": false
   },
   "outputs": [],
   "source": [
    "# loop for each individual\n",
    "for t in range(1, T):\n",
    "    if Y[t] == 0:\n",
    "        delta[t] = norm.rvs(0, 0.05)\n",
    "        U[t] = min(1, max(0, U[t-1] + delta[t]))\n",
    "        if t % k != 0:\n",
    "            L[t] = L[t-1]\n",
    "            A[t] = A[t-1]\n",
    "        else:\n",
    "            eps[1] = norm.rvs(100 * (U[t] - 2), 50)\n",
    "            L[t] = max(0, L[t-1] + 150 * A[t-k] * (A[t-k-1]) + eps[t])\n",
    "            if A[t-1] == 0:\n",
    "                A[t] = bernoulli.rvs(logit_1(theta[0] + theta[1] * t + theta[2] * (L[t] - 500)), size=1)\n",
    "            else:\n",
    "                A[t] = 1\n",
    "            if A[t] == 1 and A[t-k] == 0: Ts = t\n",
    "        lam[t] = logit_1(gam[0] + gam[1] * ((1 - A[t]) * t + A[t] * Ts) + gam[2] * A[t] + gam[3] * A[t] *(t - Ts))\n",
    "        if (1 - np.prod(1 - lam)) >= U[0]:\n",
    "            Y[t + 1] = 1\n",
    "        else:\n",
    "            Y[t + 1] = 0\n",
    "    else:\n",
    "        break\n",
    "\n",
    "     "
   ]
  },
  {
   "cell_type": "code",
   "execution_count": 155,
   "metadata": {
    "collapsed": false
   },
   "outputs": [],
   "source": [
    "# make a function that does all of the above for an individual\n",
    "def sim(T, k, gam, theta):\n",
    "    \n",
    "    # define lists for holding A, L, U and Y\n",
    "    A = np.zeros(T + 1) # A[-1] holds the value for A in t = -1\n",
    "    L = np.zeros(T)\n",
    "    U = np.zeros(T)\n",
    "    Y = np.zeros(T + 1)\n",
    "    eps = np.zeros(T)\n",
    "    lam = np.zeros(T) # prob of failure at each time period\n",
    "    delta = np.zeros(T)\n",
    "\n",
    "    # set the first value of U, U[0], to a \n",
    "    # randomly generated value from a uniform\n",
    "    # distribution a measure of general health\n",
    "    U[0] = uniform.rvs()\n",
    "    eps[0] = norm.rvs(0, 20)\n",
    "    L[0] = gamma.ppf(U[0], 3, 154)\n",
    "\n",
    "    # set A[-1] to 0\n",
    "    A[-1] = 0\n",
    "    x = logit_1(theta[0] + theta[2] * (L[0] - 500))\n",
    "    A[0] = bernoulli.rvs(x, size=1)\n",
    "    \n",
    "    # if A[0] == 1: Ts = 0 check!!!!!\n",
    "    Ts = 0\n",
    "    \n",
    "    lam[0] = logit_1(gam[0] + gam[2] * A[0])\n",
    "    \n",
    "    if lam[0] >= U[0]:\n",
    "        Y[1] = 1\n",
    "    else:\n",
    "        Y[1] = 0\n",
    "    # loop through each time period - stop when patient is dead or t = T + 1\n",
    "    for t in range(1, T):\n",
    "        if Y[t] == 0:\n",
    "            delta[t] = norm.rvs(0, 0.05)\n",
    "            U[t] = min(1, max(0, U[t-1] + delta[t]))\n",
    "            if t % k != 0:\n",
    "                L[t] = L[t-1]\n",
    "                A[t] = A[t-1]\n",
    "            else:\n",
    "                eps[1] = norm.rvs(100 * (U[t] - 2), 50)\n",
    "                L[t] = max(0, L[t-1] + 150 * A[t-k] * (A[t-k-1]) + eps[t])\n",
    "                if A[t-1] == 0:\n",
    "                    A[t] = bernoulli.rvs(logit_1(theta[0] + theta[1] * t + theta[2] * (L[t] - 500)), size=1)\n",
    "                else:\n",
    "                    A[t] = 1\n",
    "                if A[t] == 1 and A[t-k] == 0: Ts = t\n",
    "            lam[t] = logit_1(gam[0] + gam[1] * ((1 - A[t]) * t + A[t] * Ts) + gam[2] * A[t] + gam[3] * A[t] *(t - Ts))\n",
    "            if (1 - np.prod(1 - lam)) >= U[0]:\n",
    "                Y[t + 1] = 1\n",
    "            else:\n",
    "                Y[t + 1] = 0\n",
    "        else:\n",
    "            break\n",
    "    \n",
    "    # we only need the data before death, so whatever value t is before the end of the\n",
    "    # above loop\n",
    "    Y = np.ndarray.tolist(Y[1:(t+1)])\n",
    "    U = np.ndarray.tolist(U[0:t])\n",
    "    L = np.ndarray.tolist(L[0:t])\n",
    "    A = np.ndarray.tolist(A[0:t])\n",
    "    Ts = [Ts]*t\n",
    "\n",
    "    return({\"Y\":Y, \"U\":U, \"L\":L, \"A\":A, \"Ts\":Ts, \"time\":[time for time in range(t)]})"
   ]
  },
  {
   "cell_type": "code",
   "execution_count": 156,
   "metadata": {
    "collapsed": false
   },
   "outputs": [],
   "source": [
    "# use sim function to make a pandas DF for n patients\n",
    "import pandas as pd\n",
    "n = 1000\n",
    "frames = [pd.DataFrame.from_dict(sim(T, k, gam, theta)) for i in range(n)]\n",
    "df = pd.concat(frames)"
   ]
  },
  {
   "cell_type": "code",
   "execution_count": 157,
   "metadata": {
    "collapsed": false
   },
   "outputs": [],
   "source": [
    "# make new variables for the logit regression\n",
    "# including an intercept\n",
    "df[\"d1\"] = df[[\"time\", \"Ts\"]].min(axis = 1)\n",
    "df[\"time_Ts\"] = df[\"time\"] - df[\"Ts\"]\n",
    "df[\"d3\"] = np.maximum(df[\"time_Ts\"], 0)\n",
    "df[\"intercept\"] = 1.0"
   ]
  },
  {
   "cell_type": "code",
   "execution_count": 159,
   "metadata": {
    "collapsed": false
   },
   "outputs": [
    {
     "name": "stdout",
     "output_type": "stream",
     "text": [
      "Optimization terminated successfully.\n",
      "         Current function value: 0.173518\n",
      "         Iterations 8\n"
     ]
    },
    {
     "data": {
      "text/html": [
       "<table class=\"simpletable\">\n",
       "<caption>Logit Regression Results</caption>\n",
       "<tr>\n",
       "  <th>Dep. Variable:</th>         <td>Y</td>        <th>  No. Observations:  </th>   <td> 20554</td>  \n",
       "</tr>\n",
       "<tr>\n",
       "  <th>Model:</th>               <td>Logit</td>      <th>  Df Residuals:      </th>   <td> 20550</td>  \n",
       "</tr>\n",
       "<tr>\n",
       "  <th>Method:</th>               <td>MLE</td>       <th>  Df Model:          </th>   <td>     3</td>  \n",
       "</tr>\n",
       "<tr>\n",
       "  <th>Date:</th>          <td>Wed, 28 Jun 2017</td> <th>  Pseudo R-squ.:     </th>   <td>0.1006</td>  \n",
       "</tr>\n",
       "<tr>\n",
       "  <th>Time:</th>              <td>12:13:00</td>     <th>  Log-Likelihood:    </th>  <td> -3566.5</td> \n",
       "</tr>\n",
       "<tr>\n",
       "  <th>converged:</th>           <td>True</td>       <th>  LL-Null:           </th>  <td> -3965.6</td> \n",
       "</tr>\n",
       "<tr>\n",
       "  <th> </th>                      <td> </td>        <th>  LLR p-value:       </th> <td>1.107e-172</td>\n",
       "</tr>\n",
       "</table>\n",
       "<table class=\"simpletable\">\n",
       "<tr>\n",
       "      <td></td>         <th>coef</th>     <th>std err</th>      <th>z</th>      <th>P>|z|</th> <th>[95.0% Conf. Int.]</th> \n",
       "</tr>\n",
       "<tr>\n",
       "  <th>intercept</th> <td>   -3.0467</td> <td>    0.126</td> <td>  -24.178</td> <td> 0.000</td> <td>   -3.294    -2.800</td>\n",
       "</tr>\n",
       "<tr>\n",
       "  <th>d1</th>        <td>    0.0172</td> <td>    0.013</td> <td>    1.288</td> <td> 0.198</td> <td>   -0.009     0.043</td>\n",
       "</tr>\n",
       "<tr>\n",
       "  <th>A</th>         <td>   -1.6456</td> <td>    0.146</td> <td>  -11.256</td> <td> 0.000</td> <td>   -1.932    -1.359</td>\n",
       "</tr>\n",
       "<tr>\n",
       "  <th>d3</th>        <td>    0.1098</td> <td>    0.004</td> <td>   27.218</td> <td> 0.000</td> <td>    0.102     0.118</td>\n",
       "</tr>\n",
       "</table>"
      ],
      "text/plain": [
       "<class 'statsmodels.iolib.summary.Summary'>\n",
       "\"\"\"\n",
       "                           Logit Regression Results                           \n",
       "==============================================================================\n",
       "Dep. Variable:                      Y   No. Observations:                20554\n",
       "Model:                          Logit   Df Residuals:                    20550\n",
       "Method:                           MLE   Df Model:                            3\n",
       "Date:                Wed, 28 Jun 2017   Pseudo R-squ.:                  0.1006\n",
       "Time:                        12:13:00   Log-Likelihood:                -3566.5\n",
       "converged:                       True   LL-Null:                       -3965.6\n",
       "                                        LLR p-value:                1.107e-172\n",
       "==============================================================================\n",
       "                 coef    std err          z      P>|z|      [95.0% Conf. Int.]\n",
       "------------------------------------------------------------------------------\n",
       "intercept     -3.0467      0.126    -24.178      0.000        -3.294    -2.800\n",
       "d1             0.0172      0.013      1.288      0.198        -0.009     0.043\n",
       "A             -1.6456      0.146    -11.256      0.000        -1.932    -1.359\n",
       "d3             0.1098      0.004     27.218      0.000         0.102     0.118\n",
       "==============================================================================\n",
       "\"\"\""
      ]
     },
     "execution_count": 159,
     "metadata": {},
     "output_type": "execute_result"
    }
   ],
   "source": [
    "# try a logistic model\n",
    "import statsmodels.api as sm\n",
    "reg = [\"intercept\", \"d1\", \"A\", \"d3\"]\n",
    "logit = sm.Logit(df['Y'], df[reg])\n",
    "result = logit.fit()\n",
    "result.summary()"
   ]
  },
  {
   "cell_type": "code",
   "execution_count": 160,
   "metadata": {
    "collapsed": true
   },
   "outputs": [],
   "source": [
    "# next step is to do this 100 times, store results \n",
    "# use the average from the gamma parameters, and calculate\n",
    "# their standard deviations"
   ]
  },
  {
   "cell_type": "code",
   "execution_count": null,
   "metadata": {
    "collapsed": true
   },
   "outputs": [],
   "source": [
    "# work out stabilized IPTW\n",
    "# start by creating an ID variable in sim function\n",
    "# should then be possible to group by individual and\n",
    "# calcualte weights\n"
   ]
  },
  {
   "cell_type": "code",
   "execution_count": 146,
   "metadata": {
    "collapsed": false
   },
   "outputs": [
    {
     "name": "stdout",
     "output_type": "stream",
     "text": [
      "Once deleted, variables cannot be recovered. Proceed (y/[n])? y\n"
     ]
    }
   ],
   "source": [
    "%reset"
   ]
  }
 ],
 "metadata": {
  "kernelspec": {
   "display_name": "Python 3",
   "language": "python",
   "name": "python3"
  },
  "language_info": {
   "codemirror_mode": {
    "name": "ipython",
    "version": 3
   },
   "file_extension": ".py",
   "mimetype": "text/x-python",
   "name": "python",
   "nbconvert_exporter": "python",
   "pygments_lexer": "ipython3",
   "version": "3.6.0"
  }
 },
 "nbformat": 4,
 "nbformat_minor": 2
}
