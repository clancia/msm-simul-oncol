{
 "cells": [
  {
   "cell_type": "code",
   "execution_count": 2,
   "metadata": {
    "collapsed": true
   },
   "outputs": [],
   "source": [
    "# import modules for math and distributions\n",
    "from math import exp\n",
    "import numpy as np\n",
    "from scipy.stats import gamma, norm, uniform, bernoulli"
   ]
  },
  {
   "cell_type": "code",
   "execution_count": 3,
   "metadata": {
    "collapsed": false
   },
   "outputs": [],
   "source": [
    "# define inverse logit function\n",
    "def logit_1(x): return(exp(x)/(1 + exp(x)))"
   ]
  },
  {
   "cell_type": "code",
   "execution_count": 4,
   "metadata": {
    "collapsed": false
   },
   "outputs": [],
   "source": [
    "# Initial set up according to HD2012\n",
    "T = 40 # time periods\n",
    "k = 5 # check-up times\n",
    "theta = [-0.405, 0.0205, -0.00405]\n",
    "gam = [-3, 0.005, -1.5, 0.1]"
   ]
  },
  {
   "cell_type": "code",
   "execution_count": 5,
   "metadata": {
    "collapsed": false
   },
   "outputs": [],
   "source": [
    "# define lists for holding A, L, U and Y\n",
    "A = np.zeros(T + 1) # A[-1] holds the value for A in t = -1\n",
    "L = np.zeros(T)\n",
    "U = np.zeros(T)\n",
    "Y = np.zeros(T + 1)\n",
    "eps = np.zeros(T)\n",
    "lam = np.zeros(T) # prob of failure at each time period\n",
    "delta = np.zeros(T)\n",
    "\n",
    "# set the first value of U, U[0], to a \n",
    "# randomly generated value from a uniform\n",
    "# distribution a measure of general health\n",
    "U[0] = uniform.rvs()\n",
    "eps[0] = norm.rvs(0, 20)\n",
    "L[0] = gamma.ppf(U[0], 3, 154)\n",
    "\n",
    "# set A[-1] to 0\n",
    "A[-1] = 0\n",
    "x = logit_1(theta[0] + theta[2] * (L[0] - 500))\n",
    "A[0] = bernoulli.rvs(x, size=1)"
   ]
  },
  {
   "cell_type": "code",
   "execution_count": 6,
   "metadata": {
    "collapsed": false
   },
   "outputs": [],
   "source": [
    "if A[0] == 1: Ts = 0"
   ]
  },
  {
   "cell_type": "code",
   "execution_count": 7,
   "metadata": {
    "collapsed": false
   },
   "outputs": [],
   "source": [
    "lam[0] = logit_1(gam[0] + gam[2] * A[0])"
   ]
  },
  {
   "cell_type": "code",
   "execution_count": 8,
   "metadata": {
    "collapsed": false
   },
   "outputs": [],
   "source": [
    "if lam[0] >= U[0]:\n",
    "    Y[1] = 1\n",
    "else:\n",
    "    Y[1] = 0"
   ]
  },
  {
   "cell_type": "code",
   "execution_count": 9,
   "metadata": {
    "collapsed": false
   },
   "outputs": [],
   "source": [
    "# loop for each individual\n",
    "for t in range(1, T):\n",
    "    if Y[t] == 0:\n",
    "        delta[t] = norm.rvs(0, 0.05)\n",
    "        U[t] = min(1, max(0, U[t-1] + delta[t]))\n",
    "        if t % k != 0:\n",
    "            L[t] = L[t-1]\n",
    "            A[t] = A[t-1]\n",
    "        else:\n",
    "            eps[1] = norm.rvs(100 * (U[t] - 2), 50)\n",
    "            L[t] = max(0, L[t-1] + 150 * A[t-k] * (A[t-k-1]) + eps[t])\n",
    "            if A[t-1] == 0:\n",
    "                A[t] = bernoulli.rvs(logit_1(theta[0] + theta[1] * t + theta[2] * (L[t] - 500)), size=1)\n",
    "            else:\n",
    "                A[t] = 1\n",
    "            if A[t] == 1 and A[t-k] == 0: Ts = t\n",
    "        lam[t] = logit_1(gam[0] + gam[1] * ((1 - A[t]) * t + A[t] * Ts) + gam[2] * A[t] + gam[3] * A[t] *(t - Ts))\n",
    "        if (1 - np.prod(1 - lam)) >= U[0]:\n",
    "            Y[t + 1] = 1\n",
    "        else:\n",
    "            Y[t + 1] = 0\n",
    "    else:\n",
    "        break\n",
    "\n",
    "     "
   ]
  },
  {
   "cell_type": "code",
   "execution_count": 52,
   "metadata": {
    "collapsed": false
   },
   "outputs": [],
   "source": [
    "# make a function that does all of the above for an individual\n",
    "def sim(T, k, gam, theta):\n",
    "    \n",
    "    # define lists for holding A, L, U and Y\n",
    "    A = np.zeros(T + 1) # A[-1] holds the value for A in t = -1\n",
    "    L = np.zeros(T)\n",
    "    U = np.zeros(T)\n",
    "    Y = np.zeros(T + 1)\n",
    "    eps = np.zeros(T)\n",
    "    lam = np.zeros(T) # prob of failure at each time period\n",
    "    delta = np.zeros(T)\n",
    "\n",
    "    # set the first value of U, U[0], to a \n",
    "    # randomly generated value from a uniform\n",
    "    # distribution a measure of general health\n",
    "    U[0] = uniform.rvs()\n",
    "    eps[0] = norm.rvs(0, 20)\n",
    "    L[0] = gamma.ppf(U[0], 3, 154)\n",
    "\n",
    "    # set A[-1] to 0\n",
    "    A[-1] = 0\n",
    "    x = logit_1(theta[0] + theta[2] * (L[0] - 500))\n",
    "    A[0] = bernoulli.rvs(x, size=1)\n",
    "    \n",
    "    # if A[0] == 1: Ts = 0 check\n",
    "    Ts = 0\n",
    "    \n",
    "    lam[0] = logit_1(gam[0] + gam[2] * A[0])\n",
    "    \n",
    "    if lam[0] >= U[0]:\n",
    "        Y[1] = 1\n",
    "    else:\n",
    "        Y[1] = 0\n",
    "    # loop through each time period - stop when patient is dead or t = T + 1\n",
    "    for t in range(1, T):\n",
    "        if Y[t] == 0:\n",
    "            delta[t] = norm.rvs(0, 0.05)\n",
    "            U[t] = min(1, max(0, U[t-1] + delta[t]))\n",
    "            if t % k != 0:\n",
    "                L[t] = L[t-1]\n",
    "                A[t] = A[t-1]\n",
    "            else:\n",
    "                eps[1] = norm.rvs(100 * (U[t] - 2), 50)\n",
    "                L[t] = max(0, L[t-1] + 150 * A[t-k] * (A[t-k-1]) + eps[t])\n",
    "                if A[t-1] == 0:\n",
    "                    A[t] = bernoulli.rvs(logit_1(theta[0] + theta[1] * t + theta[2] * (L[t] - 500)), size=1)\n",
    "                else:\n",
    "                    A[t] = 1\n",
    "                if A[t] == 1 and A[t-k] == 0: Ts = t\n",
    "            lam[t] = logit_1(gam[0] + gam[1] * ((1 - A[t]) * t + A[t] * Ts) + gam[2] * A[t] + gam[3] * A[t] *(t - Ts))\n",
    "            if (1 - np.prod(1 - lam)) >= U[0]:\n",
    "                Y[t + 1] = 1\n",
    "            else:\n",
    "                Y[t + 1] = 0\n",
    "        else:\n",
    "            break\n",
    "    \n",
    "    # we only need the data before death, so whatever value t is before the end of the\n",
    "    # above loop\n",
    "    Y = np.ndarray.tolist(Y[0:t])\n",
    "    U = np.ndarray.tolist(U[0:t])\n",
    "    L = np.ndarray.tolist(L[0:t])\n",
    "    A = np.ndarray.tolist(A[0:t])\n",
    "    #Ts = [Ts]*t\n",
    "\n",
    "    return({\"Y\":Y, \"U\":U, \"L\":L, \"A\":A, \"Ts\":Ts, \"time\":[time for time in range(t)]})"
   ]
  },
  {
   "cell_type": "code",
   "execution_count": 53,
   "metadata": {
    "collapsed": false
   },
   "outputs": [],
   "source": [
    "import pandas as pd\n",
    "n = 1000\n",
    "d = sim(T, k, gam, theta)\n",
    "frames = [pd.DataFrame.from_dict(d) for i in range(n)]\n",
    "result = pd.concat(frames)\n"
   ]
  }
 ],
 "metadata": {
  "kernelspec": {
   "display_name": "Python 3",
   "language": "python",
   "name": "python3"
  },
  "language_info": {
   "codemirror_mode": {
    "name": "ipython",
    "version": 3
   },
   "file_extension": ".py",
   "mimetype": "text/x-python",
   "name": "python",
   "nbconvert_exporter": "python",
   "pygments_lexer": "ipython3",
   "version": "3.6.0"
  }
 },
 "nbformat": 4,
 "nbformat_minor": 2
}
