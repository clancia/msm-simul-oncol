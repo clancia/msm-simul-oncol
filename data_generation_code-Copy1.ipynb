{
 "cells": [
  {
   "cell_type": "markdown",
   "metadata": {
    "collapsed": false
   },
   "source": [
    "# MSM Simulation Study Analysis File\n"
   ]
  },
  {
   "cell_type": "code",
   "execution_count": null,
   "metadata": {
    "collapsed": true
   },
   "outputs": [],
   "source": [
    "# import modules for math and distributions\n",
    "#from math import exp\n",
    "import numpy as np\n",
    "#from scipy.stats import gamma, norm, uniform, bernoulli\n",
    "import pandas as pd\n",
    "#import statsmodels.api as sm\n",
    "import rpy2\n",
    "import patsy\n",
    "import pdb\n",
    "import matplotlib.pyplot as plt\n",
    "import matplotlib.colors as colors"
   ]
  },
  {
   "cell_type": "code",
   "execution_count": 2,
   "metadata": {
    "collapsed": false
   },
   "outputs": [],
   "source": [
    "# required to be able to work with rpy2\n",
    "%load_ext rpy2.ipython"
   ]
  },
  {
   "cell_type": "code",
   "execution_count": 3,
   "metadata": {
    "collapsed": true
   },
   "outputs": [],
   "source": [
    "# Initial set up following HD2012\n",
    "T = 40 # time periods\n",
    "k = 5 # check-up times\n",
    "theta = [-0.405, 0.0205, -0.00405]\n",
    "gam = [-3, 0.05, -1.5, 0.1]"
   ]
  },
  {
   "cell_type": "code",
   "execution_count": 27,
   "metadata": {
    "collapsed": false
   },
   "outputs": [],
   "source": [
    "# import simulation functions and generate data for 1000 patients\n",
    "import simulation_functions as sf\n",
    "df = sf.sim_n(T, k, gam, theta, n=1000, lower=0, prop=1)"
   ]
  },
  {
   "cell_type": "markdown",
   "metadata": {},
   "source": [
    "# Exploratory Analysis\n",
    "\n",
    "Choose values of upper and lower to create a stratum of CD4 count (L) in which a patient never commences treatment, or always commences treatment.\n",
    "The default is lower = 0 and upper = inf which is the no positivity case. Later in this notebook we look at positivity where introduce positivity into the data and compare the three approaches under the positivity assumption and when it is violated."
   ]
  },
  {
   "cell_type": "code",
   "execution_count": 68,
   "metadata": {
    "collapsed": false
   },
   "outputs": [
    {
     "data": {
      "text/plain": [
       "treat             189\n",
       "no treat          117\n",
       "commence treat     75\n",
       "Name: status, dtype: int64"
      ]
     },
     "execution_count": 68,
     "metadata": {},
     "output_type": "execute_result"
    }
   ],
   "source": [
    "# make a status variable\n",
    "tmp = df\n",
    "x = tmp.groupby(level=\"patid\")['A'].cumsum()\n",
    "tmp[\"status\"] = np.where(x == 0, \"no treat\", \"x\")\n",
    "tmp[\"status\"] = np.where(x == 1, \"commence treat\", tmp[\"status\"])\n",
    "tmp[\"status\"] = np.where(x > 1, \"treat\", tmp[\"status\"])\n",
    "np.unique(set(tmp[\"status\"]))\n",
    "tmp[\"status\"].value_counts()\n",
    "tmp = df.reset_index()\n",
    "tmp = tmp[tmp[\"visit\"] % 5 == 0]\n",
    "np.unique(set(tmp[[\"status\", \"visit\"]]))\n",
    "tmp[\"status\"].value_counts()\n",
    "# tmp = tmp[[\"patid\", \"visit\", \"status\"]]\n",
    "# tmp = tmp.set_index(['visit', 'status'])\n",
    "# tmp = tmp.groupby(level=['visit', 'status']).count()\n",
    "# tmp"
   ]
  },
  {
   "cell_type": "code",
   "execution_count": 56,
   "metadata": {
    "collapsed": false
   },
   "outputs": [
    {
     "data": {
      "image/png": "[encoded data removed]",
      "text/plain": [
       "<matplotlib.figure.Figure at 0xfc1ab38>"
      ]
     },
     "metadata": {},
     "output_type": "display_data"
    }
   ],
   "source": [
    "n = 100\n",
    "lower = 100\n",
    "frames = [sim(T, k, gam, theta, patid=i, lower=lower, prop=1) for i in range(n)]\n",
    "tmp = pd.concat(frames)\n",
    "\n",
    "tmp = tmp.set_index(['patid', 'visit'])\n",
    "tmp = tmp.sort_index()\n",
    "tmp[\"status\"] = tmp.groupby(level=\"patid\")['A'].cumsum()\n",
    "tmp[\"status\"] = np.where(tmp[\"status\"] == 0, 0, tmp[\"status\"])\n",
    "tmp[\"status\"] = np.where(tmp[\"status\"] == 1, 1, tmp[\"status\"])\n",
    "tmp[\"status\"] = np.where(tmp[\"status\"] > 1, 2, tmp[\"status\"])\n",
    "tmp = tmp.reset_index()\n",
    "\n",
    "#plot for each status\n",
    "uniq = list(set(tmp['status']))\n",
    "label = [\"no treat\", \"commence treat\", \"treat\"]\n",
    "color = [\"blue\", \"red\", \"green\"]\n",
    "alpha = [.15, 1, 0.45]\n",
    "for i in range(len(uniq)):\n",
    "    indx = tmp['status'] == uniq[i]\n",
    "    plt.scatter(tmp.loc[indx, \"visit\"], tmp.loc[indx, \"L\"],\n",
    "                s = 5, label=label[i], alpha = alpha[i],\n",
    "               color = color[i])\n",
    "\n",
    "plt.axhline(y=lower, color='black', linestyle='-')\n",
    "plt.xlabel('Visit')\n",
    "plt.ylabel('CD4 count')\n",
    "plt.title('Positivity')\n",
    "plt.legend(loc=1)\n",
    "plt.show()\n"
   ]
  },
  {
   "cell_type": "code",
   "execution_count": 88,
   "metadata": {
    "collapsed": false
   },
   "outputs": [
    {
     "data": {
      "text/plain": [
       "Index(['status'], dtype='object')"
      ]
     },
     "execution_count": 88,
     "metadata": {},
     "output_type": "execute_result"
    }
   ],
   "source": [
    "# plot across visits of percentage on treatment, not on treatment etc.\n",
    "tmp2 = tmp[tmp[\"visit\"] % 5 == 0]\n",
    "tmp2 = tmp2.set_index(['patid', 'visit'])\n",
    "tmp2 = tmp2.sort_index()\n",
    "tmp3 = tmp2.groupby(level=\"visit\")[\"status\"].value_counts()\n",
    "tmp3 = tmp3.to_frame()\n",
    "#ax = sns.barplot(x=\"visit\", y=\"total_bill\", data=tmp3)"
   ]
  },
  {
   "cell_type": "markdown",
   "metadata": {},
   "source": [
    "# Regression Variables\n",
    "Following Havercroft, Didelez (2012) we define the variables used in the estimation of the hazard function"
   ]
  },
  {
   "cell_type": "code",
   "execution_count": 28,
   "metadata": {
    "collapsed": false
   },
   "outputs": [],
   "source": [
    "# make new variables for the logit regression\n",
    "# including an intercept\n",
    "def make_vars(df):\n",
    "    df = df.reset_index()\n",
    "    df[\"d1\"] = (1-df['A'])*df['visit'] + df['A']*df['Ts']\n",
    "    df[\"d3\"] = df['A']*(df['visit']-df['Ts'])\n",
    "    df = df.set_index(['patid', 'visit'])\n",
    "    df = df.sort_index()\n",
    "    return(df)"
   ]
  },
  {
   "cell_type": "code",
   "execution_count": 29,
   "metadata": {
    "collapsed": false
   },
   "outputs": [
    {
     "data": {
      "text/plain": [
       "R object with classes: ('numeric',) mapped to:\n",
       "<FloatVector - Python:0x0000000006BC14C8 / R:0x00000000143594F8>\n",
       "[-2.823815, 0.042474, -1.469325, 0.100713]"
      ]
     },
     "execution_count": 29,
     "metadata": {},
     "output_type": "execute_result"
    }
   ],
   "source": [
    "# a function to allow us to use the ipw package from R to get weights.\n",
    "# The numerator and denominator probabilities of the stabilized weights\n",
    "# are estimated using a coxph model.\n",
    "import rpy2.robjects as robjects\n",
    "robjects.r('''\n",
    "       runreg <- function(tmp){\n",
    "       library(ipw)\n",
    "       library(survey)\n",
    "       tmp$tstart <- tmp$visit - 1\n",
    "       ipwsw <- ipwtm(exposure = A, family = \"survival\", # survival model for weights\n",
    "       numerator = ~ 1, denominator = ~ L,\n",
    "       id = patid, timevar = visit, tstart = tstart,\n",
    "       type = \"first\", data = tmp)\n",
    "       tmp$ipwsw <- ipwsw$ipw.weights\n",
    "       #desipw <- svydesign(ids = ~ 1, data = tmp, weights = ~ ipwsw)\n",
    "       #mdl <- svyglm(Y ~ d1 + A + d3, design = desipw, family = quasibinomial())\n",
    "       mdl <- glm(Y ~ d1 + A + d3, data = tmp, weights=ipwsw, family=binomial)\n",
    "       return(coef(mdl))\n",
    "       }\n",
    "''')\n",
    "\n",
    "# \"initializes\" function\n",
    "r_runreg = robjects.globalenv['runreg'] "
   ]
  },
  {
   "cell_type": "markdown",
   "metadata": {},
   "source": [
    "# Positivity Violation\n",
    "We investigate how the bias of the IPW estimates varies depending on the size of the lower threshold, below which patients are always treated."
   ]
  },
  {
   "cell_type": "code",
   "execution_count": 13,
   "metadata": {
    "collapsed": false
   },
   "outputs": [],
   "source": [
    "# We want to ivestigate how the bias changes \n",
    "# as the lower limit changes.\n",
    "threshold = [10 + 10*i for i in range(20)]"
   ]
  },
  {
   "cell_type": "code",
   "execution_count": 14,
   "metadata": {
    "collapsed": false
   },
   "outputs": [],
   "source": [
    "# Monte Carlo of table 1 in Havercroft, Didelez (2012) with\n",
    "# positivity violation at different levels of lower threshold. \n",
    "B = 5 # number of replications\n",
    "mt = np.zeros((len(threshold))) # average at each threshold.\n",
    "for i in range(len(threshold)):\n",
    "    mb = np.zeros((B, 4))\n",
    "    for b in range(B):\n",
    "        df = get_sim_data(T, k, gam, theta, n = 1000, lower=threshold[i])\n",
    "        df = get_weights(df)\n",
    "        tmp = df.reset_index()\n",
    "        mb[b] = r_runreg(tmp)\n",
    "    mt[i] = mb[:,2].mean(axis = 0)"
   ]
  },
  {
   "cell_type": "code",
   "execution_count": 15,
   "metadata": {
    "collapsed": false
   },
   "outputs": [],
   "source": [
    "bias = np.ndarray.tolist(mt + 1.5) # true parameter is -1.5\n",
    "df = np.vstack((bias, threshold))\n",
    "df = pd.DataFrame(df.T, columns=['bias', 'threshold'])"
   ]
  },
  {
   "cell_type": "code",
   "execution_count": 19,
   "metadata": {
    "collapsed": false
   },
   "outputs": [
    {
     "data": {
      "image/png": "[encoded data removed]",
      "text/plain": [
       "<matplotlib.figure.Figure at 0x178075c0>"
      ]
     },
     "metadata": {},
     "output_type": "display_data"
    }
   ],
   "source": [
    "import seaborn as sns\n",
    "sns.lmplot(x=\"threshold\", y=\"bias\", data=df, lowess=True)\n",
    "plt.show()"
   ]
  },
  {
   "cell_type": "markdown",
   "metadata": {},
   "source": [
    "# Proportion of positivity compliant doctors\n",
    "We consider the case where there are two types of doctors. On the one hand there is a proportion p of doctors who rigidly positivity compliant. On the other hand there are doctors who are not positivity compliant, in such a way that elow a fixed lower bound of CD4 count they always treat. A drawback is that we assume all doctors are the same and choose a threshold t at which they treat a patient. Instead we could model the threshold as a function of the health of the patient using U0."
   ]
  },
  {
   "cell_type": "code",
   "execution_count": 96,
   "metadata": {
    "collapsed": false
   },
   "outputs": [],
   "source": [
    "upper = 100\n",
    "prop = [(i)*0.1 for i in range(11)]"
   ]
  },
  {
   "cell_type": "code",
   "execution_count": 102,
   "metadata": {
    "collapsed": false
   },
   "outputs": [],
   "source": [
    "# Monte Carlo of table 1 in Havercroft, Didelez (2012) with\n",
    "# positivity violation at different levels of lower threshold. \n",
    "B = 10 # number of replications\n",
    "mp = np.zeros((len(prop))) # average at each threshold.\n",
    "for i in range(len(prop)):\n",
    "    mb = np.zeros((B, 4))\n",
    "    for b in range(B):\n",
    "        df = get_sim_data(T, k, gam, theta, n = 1000, lower=100, prop=prop[i])\n",
    "        df = get_weights(df)\n",
    "        tmp = df.reset_index()\n",
    "        mb[b] = r_runreg(tmp)\n",
    "    mp[i] = mb[:,2].mean(axis = 0)"
   ]
  },
  {
   "cell_type": "code",
   "execution_count": 103,
   "metadata": {
    "collapsed": false
   },
   "outputs": [],
   "source": [
    "bias = np.ndarray.tolist(mp + 1.5) # true parameter is -1.5\n",
    "df = np.vstack((bias, prop))\n",
    "df = pd.DataFrame(df.T, columns=['bias', 'prop'])"
   ]
  },
  {
   "cell_type": "code",
   "execution_count": 104,
   "metadata": {
    "collapsed": false
   },
   "outputs": [
    {
     "data": {
      "image/png": "[encoded data removed]",
      "text/plain": [
       "<matplotlib.figure.Figure at 0xfbae7b8>"
      ]
     },
     "metadata": {},
     "output_type": "display_data"
    }
   ],
   "source": [
    "import seaborn as sns\n",
    "sns.lmplot(x=\"prop\", y=\"bias\", data=df, lowess=True)\n",
    "plt.show()"
   ]
  }
 ],
 "metadata": {
  "kernelspec": {
   "display_name": "Python 3",
   "language": "python",
   "name": "python3"
  },
  "language_info": {
   "codemirror_mode": {
    "name": "ipython",
    "version": 3
   },
   "file_extension": ".py",
   "mimetype": "text/x-python",
   "name": "python",
   "nbconvert_exporter": "python",
   "pygments_lexer": "ipython3",
   "version": "3.6.0"
  }
 },
 "nbformat": 4,
 "nbformat_minor": 2
}
