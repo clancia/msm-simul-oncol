{
 "cells": [
  {
   "cell_type": "markdown",
   "metadata": {},
   "source": [
    "# Exchangeability\n",
    "\n",
    "Exchangeability is one of the assumptions underlying causal inference and is closely related to randomized controlled experiments as well as being a synonym for the term exogeneity which is often used in econometrics. Randomized experiments are so highly prized precisely because they are expected to  Informally, exchangeability between two groups, for example a group treated with a drug and an untreated group, means that subjects from the untreated group would have had the same expected outcome as the treated group had they, contrary to fact, received treatment. The same as true of the treated group. Had they not received treatment, they would have the same expected outcome as the untreated group. In this sense subjects from the two groups are exchangeable because we could change their treatment without changing the expected outcome.\n",
    "\n",
    "If the outcome was death, and we define the risk of death as $P(Y = 1\\ | \\ A = 0)$ in the untreated group and $P(Y = 1\\ | \\ A = 1)$ in the treated group. If contrary to fact, all subjects in both groups were treated, then, under the exchangeability assumption, $P(Y^{a=1} = 1\\ | \\ A = 1) = P(Y^{a=1} = 1\\ | \\ A = 0)$. We actually do see the counterfactual under treatment because $P(Y^{a=1} = 1\\ | \\ A = 1)$ is actually observed. Similarly we do see $P(Y^{a=0} = 1\\ | \\ A = 0)$. So these are not actuall counterfactual at all.\n",
    "\n",
    "We end up being able to estimate $P(Y^{a=1})$ and $P(Y^{a=0})$ which is exactly what we want. From these quantities we derive causal inference.\n",
    "\n",
    "# Conditional exchangeability.\n",
    "\n",
    "In this case we actually do observe $P(Y^{a=1} = 1\\ | \\ A = 1)$ and as we know under the exchangeability assumption that \n",
    "\n",
    "\n",
    "How does it relate to exogeneity in economics?\n",
    "How does it relate to randomisation? How does randomisation lead to exchangeability.\n",
    "How does it relate to positvity?\n",
    "\n",
    "\n",
    "\n",
    "conditional on treatment history up to the previous period and all measured covariates, the treatment received in the current period is independent of the potential outcomes.\n",
    "\n",
    "As a result, treated and untreated patients are exchangeable in the sense that were they to remain untreated the distribution of Y would not change.\n",
    "\n",
    "In other words, given covariate and treatment histories, the potential outcomes are independent of treatment. That means that if there are four outcomes corresponding to two possible treatments, then all four must be possible.\n",
    "\n",
    "We need to measure enough joint predictors of Y and A such that within each level of these predictors, associations between exposure and outcome that are due to their common cause will disappear. In other words, A and Y will be independent. The potential outcomes must be independent of treatment. As an example, suppose that the reason why you get treatment is because you are sick, and the reason you die is because you are sick. Suppose every sick person gets treatment and every healthy person does not get treatment. \n",
    "\n",
    "The result is to bring us back to the idea of sequential randomization. This means that A and Y are independent.\n",
    "\n",
    "Note that the sequential randomization needs to be more than just independence between A and Y in the current time period. It needs to hold across all covariates as well.\n",
    "\n",
    "exchangeability has been studied from various angles including with a relationship to positivity.\n",
    "\n",
    "For Robins (1999) proof that statistical exogeneity (A and L) implies causal exogeneity, we need the no unmeasured confounders assumption which is the same as the exchangeability assumption. This is within the same strata. If there is a common cause U of A and Y then how does this stop us from getting to the causality part?\n",
    "\n",
    "Subjects are then exchaneable because if they were all to remain untreated, or if they were all to be treated, the distribution of the outcome Y would be the same in each group. That would not be true if there is an unmeasured variable U which is also affecting Y. Another way of thinking about this is to consider permuting a dataset and ignoring one key variable like gender. If we do not permute this variable then there is a value U affecting A and Y but which is ignored or not conditioned on. And to be clear, this is only the case conditional of previous treatment and covariate histories. So we can establish statistical exogeneity using the known i.e. measured confounders and then assume there are no unmeasured confounders and this established causal exogeneity. What Robins showed was that the weighted estimate for an MSM arrives at the correct causal parameter.\n",
    "\n",
    "The informal heuristic is that everyone is part of a pseudopopulation comprising copies of themselves. and in this new pseudo-population treatment is statistically exogenous and therefore causually exogenous provided we have the no unmeasured confounders assumption\n",
    "\n",
    "Above you really mean that the counterfactual outcome and A are independent, not that Y and A are independent.\n",
    "\n",
    "The treated group, and the untreated group would have received the same risk of death had they all be treated, say, or had they all been untreated. The fact that they belong to the untreated or treated group does not matter. This would not hold if sick people get the treatment because they are sick. So we are saying that the risk of death is the same in each group under the, possibly counterfactual setting of receiving treatment a, regardless of the actual treatment received. $P(Y^a\\ | A=0) = P(Y^a\\ | A=1)$ for both $a = 1$ and $a = 0$. It follows that the marginal risk P(Y^a) under treatment a is also to the risk in the two strata of treated and untreated $P(Y^a\\ | A=0) = P(Y^a\\ | A=1) = P(Y^a)$. This means that under randomization, we know $P(Y^1\\ | A=0) = P(Y^1\\ | A=1) = P(Y^1)$ and we know $P(Y^0\\ | A=0) = P(Y^0\\ | A=1) = P(Y^0)$. BUt clearly when a = 1,  $P(Y^1\\ | A=0) = 0$ and when a = 0,  $P(Y^0\\ | A=1) = 0$. Therefore the risk in the treated group is actually equally to the marginal risk in the population when a = 1, and the risk in the untreated group is actually equally to the marginal risk in the population when a = 0. This holds by exchangeability. Also notice that we are not specifiying whether $Y^a = 1 or 0$. Regardless of the value of Y, we are asking whether the risk or Y is the same under a = 0 or 1. If it is then they are exchangeable\n",
    "\n",
    "In the randomization setting the risk in the treated group is the same as the risk if thewhole population had been treated. this follows from exchangeability because if the risk in each subset of the population is equal, then the marginal value in the population must be the same too. \n",
    "\n",
    "Exchangeability is not empirically verifiable cole2008 (consistency is also taken for granted this leaves only the assumptions of positivity and correct model specification."
   ]
  }
 ],
 "metadata": {
  "kernelspec": {
   "display_name": "Python 3",
   "language": "python",
   "name": "python3"
  },
  "language_info": {
   "codemirror_mode": {
    "name": "ipython",
    "version": 3
   },
   "file_extension": ".py",
   "mimetype": "text/x-python",
   "name": "python",
   "nbconvert_exporter": "python",
   "pygments_lexer": "ipython3",
   "version": "3.6.0"
  }
 },
 "nbformat": 4,
 "nbformat_minor": 2
}
