{
 "cells": [
  {
   "cell_type": "markdown",
   "metadata": {},
   "source": [
    "\n",
    "\n",
    "\n",
    "\n",
    "\n",
    "\n",
    "\n",
    "\n",
    "\n",
    "\n",
    "\n",
    "\n",
    "\n",
    "\n",
    "\n",
    "\n",
    "\n",
    "\n",
    "\n",
    "\n",
    "\n",
    "\n",
    "\n",
    "\n",
    "\n",
    "\n",
    "\n",
    "\n",
    "\n",
    "\n",
    "\n",
    "\n",
    "\n",
    "\n",
    "\n",
    "\n",
    "\n",
    "\n",
    "\n",
    "\n",
    "\n",
    "Counterfactuals\n",
    "\n",
    "consistency assumptions is that evry subjects response to a treatment hstory is well defined, although we do not observe it. The assumption of consistency is what links the counterfactual data to the observed data (Y, A ¯  \n",
    "A¯\n",
    ")\n",
    "\n",
    "An MSM is a model for the counterfactual. How to see that? How to connect that to the observed data and how does IPTW allow us to model the counterfactual? How is it that we can go from observed data and thinking about counterfactuals to naive methods and getting the correct causal relationships?\n",
    "\n",
    "No unmeasured confounders is equivalent to the notion of sequential randomization. And if treatment is sequentially assigned then we get a causal model and no longer an associative model\n",
    "\n",
    "Robons (1999) shows that the weighted estimate converges to the beta in an MSM.\n",
    "\n",
    "consistency can be shown as if A = a then Y a  \n",
    "Ya\n",
    " = Y A  \n",
    "YA\n",
    " = Y, in other words the outcome is exactly the one one that would have been observed if we had set A at teh beginning.\n"
   ]
  }
 ],
 "metadata": {
  "kernelspec": {
   "display_name": "Python 3",
   "language": "python",
   "name": "python3"
  },
  "language_info": {
   "codemirror_mode": {
    "name": "ipython",
    "version": 3
   },
   "file_extension": ".py",
   "mimetype": "text/x-python",
   "name": "python",
   "nbconvert_exporter": "python",
   "pygments_lexer": "ipython3",
   "version": "3.6.0"
  }
 },
 "nbformat": 4,
 "nbformat_minor": 2
}
