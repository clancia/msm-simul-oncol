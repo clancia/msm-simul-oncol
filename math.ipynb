{
 "cells": [
  {
   "cell_type": "markdown",
   "metadata": {},
   "source": [
    "# Dynamic Strategy/Regime\n",
    "The simulation of Havercroft, Didelez (2012) is static in the sense that the intervention A is not a function of L or other variables. Although A does depend on L, the current A (dose or treatment) is not adjusted based on previous values of L. Therefore, the treatment strategy is irrespective of any other observations made on the patient.\n",
    "\n",
    "We want to extend this to the case where there is a dynamic non-random relationship between the treatment decisions and a time-varying covariate. In this case the time at which a given patient will receive treatment is not pre-determined. We then want to simulate data incorporating the dynamic strategy and investigate how different methods perform, for example IPW, adjusted regression, G-formula etc.\n",
    "\n",
    "**Dynamic treatment strategy**: Any well-specified way of adjusting the choice of the next decision(treatment or dose to administer) in the light of previous information constitutes a dynamic decision (or treatment) strategy"
   ]
  },
  {
   "cell_type": "markdown",
   "metadata": {
    "collapsed": false
   },
   "source": [
    "# Current Set-Up\n",
    "Based on Figure 1 in HD(2012), we begin with the same factorization\n",
    "\n",
    "$$P(U, L, W, A, Y)=P(U)P(L | U)P(A | L)P(Y | U,A)$$\n",
    "Previously, we would have made an intervention do(A=a) of the form\n",
    "\n",
    "$$ P(U, L, W, Y|do(A=a)) =\n",
    "  \\begin{cases}\n",
    "    P(U)P(L|U)P(Y|U,A) & \\quad \\text{if } A = a\\\\\n",
    "    0  & \\quad \\text{if } A \\neq a\\\\\n",
    "  \\end{cases}\n",
    "$$\n",
    "\n",
    "From the DAG in figure 1 we see a path from U to L and from L to A, but also a path from U to Y. We can block the path from U to A by conditioning on L or equivalently by conditioning on U:\n",
    "\n",
    "$$P(Y|do(A=a)) = \\sum_l P(Y | L=l, A=a)P(L=l|A=a)$$\n",
    "\n",
    "If we extend the set-up to include a dynamic treatment decision where the value of the CD4 count determines the treatment based on a threshold, then we have more than one strategy. For example, we might have the rule, if CD4 count falls below 100 then we treat, otherwise we do not treat\n",
    "\n",
    "$$a = g(a, l) = \n",
    "  \\begin{cases}\n",
    "    1 & \\quad \\text{if } l \\lt 100\\\\\n",
    "    0  & \\quad \\text{if } l \\ge 100\\\\\n",
    "  \\end{cases}\n",
    "$$\n",
    "\n",
    "In which case in the one-shot case we can express the factorization as\n",
    "# IGNORE FOLLOWING\n",
    "\n",
    "$$ P(U, L, W, Y|do(A=g(a, l))) =\n",
    "  \\begin{cases}\n",
    "    P(U)P(L|U)P(Y|U,A) & \\quad \\text{if } L \\lt \\tau\\\\\n",
    "    P(U)P(L|U)P(Y|U,A) & \\quad \\text{if } L \\ge \\tau\\\\\n",
    "    0  & \\quad \\text{if } A \\neq g(a, l)\\\\\n",
    "  \\end{cases}\n",
    "$$\n"
   ]
  },
  {
   "cell_type": "code",
   "execution_count": 3,
   "metadata": {
    "collapsed": false
   },
   "outputs": [
    {
     "name": "stderr",
     "output_type": "stream",
     "text": [
      "C:\\Users\\morle001\\AppData\\Local\\Continuum\\Anaconda3\\lib\\site-packages\\networkx\\drawing\\nx_pylab.py:126: MatplotlibDeprecationWarning: pyplot.hold is deprecated.\n",
      "    Future behavior will be consistent with the long-time default:\n",
      "    plot commands add elements without first clearing the\n",
      "    Axes and/or Figure.\n",
      "  b = plt.ishold()\n",
      "C:\\Users\\morle001\\AppData\\Local\\Continuum\\Anaconda3\\lib\\site-packages\\networkx\\drawing\\nx_pylab.py:138: MatplotlibDeprecationWarning: pyplot.hold is deprecated.\n",
      "    Future behavior will be consistent with the long-time default:\n",
      "    plot commands add elements without first clearing the\n",
      "    Axes and/or Figure.\n",
      "  plt.hold(b)\n",
      "C:\\Users\\morle001\\AppData\\Local\\Continuum\\Anaconda3\\lib\\site-packages\\matplotlib\\__init__.py:917: UserWarning: axes.hold is deprecated. Please remove it from your matplotlibrc and/or style files.\n",
      "  warnings.warn(self.msg_depr_set % key)\n",
      "C:\\Users\\morle001\\AppData\\Local\\Continuum\\Anaconda3\\lib\\site-packages\\matplotlib\\rcsetup.py:152: UserWarning: axes.hold is deprecated, will be removed in 3.0\n",
      "  warnings.warn(\"axes.hold is deprecated, will be removed in 3.0\")\n"
     ]
    },
    {
     "data": {
      "image/png": "[encoded data removed]",
      "text/plain": [
       "<matplotlib.figure.Figure at 0x567db00>"
      ]
     },
     "metadata": {},
     "output_type": "display_data"
    }
   ],
   "source": [
    "import networkx as nx\n",
    "import numpy as np\n",
    "import matplotlib.pyplot as plt\n",
    "import pylab\n",
    "\n",
    "G = nx.DiGraph()\n",
    "\n",
    "G.add_edges_from([('A', 'B'),('C','D'),('G','D')], weight=1)\n",
    "G.add_edges_from([('D','A'),('D','E'),('B','D'),('D','E')], weight=2)\n",
    "G.add_edges_from([('B','C'),('E','F')], weight=3)\n",
    "G.add_edges_from([('C','F')], weight=4)\n",
    "\n",
    "\n",
    "val_map = {'A': 1.0,\n",
    "                   'D': 0.5714285714285714,\n",
    "                              'H': 0.0}\n",
    "\n",
    "values = [val_map.get(node, 0.45) for node in G.nodes()]\n",
    "edge_labels=dict([((u,v,),d['weight'])\n",
    "                 for u,v,d in G.edges(data=True)])\n",
    "red_edges = [('C','D'),('D','A')]\n",
    "edge_colors = ['black' if not edge in red_edges else 'red' for edge in G.edges()]\n",
    "\n",
    "pos=nx.spring_layout(G)\n",
    "nx.draw_networkx_edge_labels(G,pos,edge_labels=edge_labels)\n",
    "nx.draw(G,pos, node_color = values, node_size=1500,edge_color=edge_colors,edge_cmap=plt.cm.Reds)\n",
    "pylab.show()\n"
   ]
  }
 ],
 "metadata": {
  "kernelspec": {
   "display_name": "Python 3",
   "language": "python",
   "name": "python3"
  },
  "language_info": {
   "codemirror_mode": {
    "name": "ipython",
    "version": 3
   },
   "file_extension": ".py",
   "mimetype": "text/x-python",
   "name": "python",
   "nbconvert_exporter": "python",
   "pygments_lexer": "ipython3",
   "version": "3.6.0"
  }
 },
 "nbformat": 4,
 "nbformat_minor": 2
}
