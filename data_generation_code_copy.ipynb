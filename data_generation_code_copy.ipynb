{
 "cells": [
  {
   "cell_type": "code",
   "execution_count": 1,
   "metadata": {
    "collapsed": false
   },
   "outputs": [],
   "source": [
    "# import modules for math and distributions\n",
    "from math import exp\n",
    "import numpy as np\n",
    "from scipy.stats import gamma, norm, uniform, bernoulli\n",
    "import pandas as pd\n",
    "import statsmodels.api as sm\n",
    "import rpy2\n",
    "import patsy"
   ]
  },
  {
   "cell_type": "code",
   "execution_count": 2,
   "metadata": {
    "collapsed": false
   },
   "outputs": [
    {
     "data": {
      "text/plain": [
       "array([ 4.25])"
      ]
     },
     "execution_count": 2,
     "metadata": {},
     "output_type": "execute_result"
    }
   ],
   "source": [
    "# load and try out R magic\n",
    "%load_ext rpy2.ipython\n",
    "%R X=c(1,4,5,7); sd(X); mean(X)"
   ]
  },
  {
   "cell_type": "code",
   "execution_count": 3,
   "metadata": {
    "collapsed": true
   },
   "outputs": [],
   "source": [
    "# define inverse logit function\n",
    "def logit_1(x): return(exp(x)/(1 + exp(x)))"
   ]
  },
  {
   "cell_type": "code",
   "execution_count": 4,
   "metadata": {
    "collapsed": true
   },
   "outputs": [],
   "source": [
    "# Initial set up according to HD2012\n",
    "T = 40 # time periods\n",
    "k = 5 # check-up times\n",
    "theta = [-0.405, 0.0205, -0.00405]\n",
    "gam = [-3, 0.05, -1.5, 0.1]"
   ]
  },
  {
   "cell_type": "code",
   "execution_count": 5,
   "metadata": {
    "collapsed": true
   },
   "outputs": [],
   "source": [
    "# make a function that does all of the above for an individual\n",
    "def sim(T, k, gam, theta, patid=0):\n",
    "    \n",
    "    # define lists for holding A, L, U and Y\n",
    "    A = np.zeros(T + 2) # A[-1] (last value) holds A in t = -1\n",
    "    L = np.zeros(T+1)\n",
    "    U = np.zeros(T+1)\n",
    "    Y = np.zeros(T + 2)\n",
    "    eps = np.zeros(T+1)\n",
    "    lam = np.zeros(T+1) # prob of failure at each time period\n",
    "    delta = np.zeros(T+1)\n",
    "\n",
    "    # set the first value of U, U[0], to a \n",
    "    # randomly generated value from a uniform\n",
    "    # distribution a measure of general health\n",
    "    U[0] = uniform.rvs()\n",
    "    eps[0] = norm.rvs(0, 20)\n",
    "    L[0] = gamma.ppf(U[0], 3, scale=154) + eps[0]\n",
    "\n",
    "    # set A[-1] to 0: held in last value of A\n",
    "    A[-1] = 0\n",
    "    \n",
    "    # set A[0]\n",
    "    A[0] = bernoulli.rvs(logit_1(theta[0] + theta[2] * (L[0] - 500)), size=1)\n",
    "    \n",
    "    if A[0] == 1:\n",
    "        Ts = 0 \n",
    "    else:\n",
    "        Ts = -1\n",
    "    \n",
    "    lam[0] = logit_1(gam[0] + gam[2] * A[0])\n",
    "    \n",
    "    if lam[0] >= U[0]:\n",
    "        Y[1] = 1\n",
    "    else:\n",
    "        Y[1] = 0\n",
    "    # loop through each time period - stop when patient is dead or t = T + 1\n",
    "    for t in range(1, T+1):\n",
    "        if Y[t] == 0:\n",
    "            delta[t] = norm.rvs(0, 0.05)\n",
    "            U[t] = min(1, max(0, U[t-1] + delta[t]))\n",
    "            if t % k != 0:\n",
    "                L[t] = L[t-1]\n",
    "                A[t] = A[t-1]\n",
    "            else:\n",
    "                eps[t] = norm.rvs(100 * (U[t] - 2), 50)\n",
    "                L[t] = max(0, L[t-1] + 150 * A[t-k] * (1-A[t-k-1]) + eps[t])\n",
    "                if A[t-1] == 0:\n",
    "                    A[t] = bernoulli.rvs(logit_1(theta[0] + theta[1] * t + theta[2] * (L[t] - 500)), size=1)\n",
    "                else:\n",
    "                    A[t] = 1\n",
    "                if A[t] == 1 and A[t-k] == 0: \n",
    "                    Ts = t\n",
    "            ########################################\n",
    "            # This is a check for debugging purposes\n",
    "            # Comment it before the next push\n",
    "            if Ts == -1:\n",
    "                if A[t]:\n",
    "                    print('There is an error...')\n",
    "            ########################################\n",
    "            lam[t] = logit_1(gam[0] + gam[1] * ((1 - A[t]) * t + A[t] * Ts) + gam[2] * A[t] + gam[3] * A[t] *(t - Ts))\n",
    "            if (1 - np.prod(1 - lam)) >= U[0]:\n",
    "                Y[t + 1] = 1\n",
    "            else:\n",
    "                Y[t+1] = 0\n",
    "        else:\n",
    "            break\n",
    "    \n",
    "    #we only need the data before death, so whatever value t is before the end of the\n",
    "    #above loop - change this to numpy array and transpose.\n",
    "    Y = np.ndarray.tolist(Y[1:(t+1)])\n",
    "    U = np.ndarray.tolist(U[0:t])\n",
    "    L = np.ndarray.tolist(L[0:t])\n",
    "    A = np.ndarray.tolist(A[0:t])\n",
    "    Ts = [Ts]*t\n",
    "\n",
    "    df = np.vstack((Y, L, U, A, Ts))\n",
    "    df = pd.DataFrame(df.T, columns=['Y', 'L', 'U', 'A', 'Ts'])\n",
    "    df['Y'] = df['Y'].astype(int)\n",
    "    df['A'] = df['A'].astype(int)\n",
    "    df['patid'] = patid\n",
    "    df.index.name = 'visit'\n",
    "    return df.reset_index()"
   ]
  },
  {
   "cell_type": "code",
   "execution_count": 6,
   "metadata": {
    "collapsed": true
   },
   "outputs": [],
   "source": [
    "# use sim function to make a pandas DF for n patients\n",
    "n = 5000\n",
    "frames = [sim(T, k, gam, theta, patid=i) for i in range(n)]\n",
    "df = pd.concat(frames)"
   ]
  },
  {
   "cell_type": "code",
   "execution_count": 7,
   "metadata": {
    "collapsed": true
   },
   "outputs": [],
   "source": [
    "# make new variables for the logit regression\n",
    "\n",
    "##############################################\n",
    "# The old code uses a mathematical simplification\n",
    "# that holds only if Ts has a defined value (!= -1)\n",
    "##############################################\n",
    "# df[\"d1\"] = df[[\"visit\", \"Ts\"]].min(axis = 1)\n",
    "# df[\"time_Ts\"] = df[\"visit\"] - df[\"Ts\"]\n",
    "# df[\"d3\"] = np.maximum(df[\"time_Ts\"], 0)\n",
    "##############################################\n",
    "# The following is always valid\n",
    "# because when Ts == -1 then A == 0\n",
    "df[\"d1\"] = (1-df['A'])*df['visit'] + df['A']*df['Ts']\n",
    "df[\"d3\"] = df['A']*(df['visit']-df['Ts'])\n",
    "##############################################\n",
    "\n",
    "#####################################\n",
    "# This is not needed if you use patsy\n",
    "#####################################\n",
    "# including an intercept\n",
    "#df[\"intercept\"] = 1.0\n",
    "#####################################\n",
    "\n",
    "df = df.set_index(['patid', 'visit'])\n",
    "df = df.sort_index()"
   ]
  },
  {
   "cell_type": "code",
   "execution_count": 8,
   "metadata": {
    "collapsed": true
   },
   "outputs": [],
   "source": [
    "#df.loc[(2,slice(None)),:] # gets patient 3"
   ]
  },
  {
   "cell_type": "code",
   "execution_count": 9,
   "metadata": {
    "collapsed": true
   },
   "outputs": [],
   "source": [
    "# get the previous value of A, and set first value of A_1 per patient to zero.\n",
    "df['A_1'] = df.groupby(level=\"patid\")['A'].shift(1)\n",
    "df['A_1'] = df['A_1'].fillna(0)"
   ]
  },
  {
   "cell_type": "code",
   "execution_count": 11,
   "metadata": {
    "collapsed": false
   },
   "outputs": [
    {
     "name": "stdout",
     "output_type": "stream",
     "text": [
      "Optimization terminated successfully.\n",
      "         Current function value: 0.181577\n",
      "         Iterations 8\n"
     ]
    },
    {
     "data": {
      "text/html": [
       "<table class=\"simpletable\">\n",
       "<caption>Logit Regression Results</caption>\n",
       "<tr>\n",
       "  <th>Dep. Variable:</th>         <td>Y</td>        <th>  No. Observations:  </th>  <td> 96935</td> \n",
       "</tr>\n",
       "<tr>\n",
       "  <th>Model:</th>               <td>Logit</td>      <th>  Df Residuals:      </th>  <td> 96931</td> \n",
       "</tr>\n",
       "<tr>\n",
       "  <th>Method:</th>               <td>MLE</td>       <th>  Df Model:          </th>  <td>     3</td> \n",
       "</tr>\n",
       "<tr>\n",
       "  <th>Date:</th>          <td>Wed, 12 Jul 2017</td> <th>  Pseudo R-squ.:     </th>  <td>0.08648</td>\n",
       "</tr>\n",
       "<tr>\n",
       "  <th>Time:</th>              <td>15:58:02</td>     <th>  Log-Likelihood:    </th> <td> -17601.</td>\n",
       "</tr>\n",
       "<tr>\n",
       "  <th>converged:</th>           <td>True</td>       <th>  LL-Null:           </th> <td> -19267.</td>\n",
       "</tr>\n",
       "<tr>\n",
       "  <th> </th>                      <td> </td>        <th>  LLR p-value:       </th>  <td> 0.000</td> \n",
       "</tr>\n",
       "</table>\n",
       "<table class=\"simpletable\">\n",
       "<tr>\n",
       "      <td></td>         <th>coef</th>     <th>std err</th>      <th>z</th>      <th>P>|z|</th>  <th>[0.025</th>    <th>0.975]</th>  \n",
       "</tr>\n",
       "<tr>\n",
       "  <th>Intercept</th> <td>   -3.6742</td> <td>    0.044</td> <td>  -83.620</td> <td> 0.000</td> <td>   -3.760</td> <td>   -3.588</td>\n",
       "</tr>\n",
       "<tr>\n",
       "  <th>d1</th>        <td>    0.0074</td> <td>    0.003</td> <td>    2.785</td> <td> 0.005</td> <td>    0.002</td> <td>    0.013</td>\n",
       "</tr>\n",
       "<tr>\n",
       "  <th>A</th>         <td>   -0.5273</td> <td>    0.054</td> <td>   -9.820</td> <td> 0.000</td> <td>   -0.633</td> <td>   -0.422</td>\n",
       "</tr>\n",
       "<tr>\n",
       "  <th>d3</th>        <td>    0.1137</td> <td>    0.002</td> <td>   52.561</td> <td> 0.000</td> <td>    0.109</td> <td>    0.118</td>\n",
       "</tr>\n",
       "</table>"
      ],
      "text/plain": [
       "<class 'statsmodels.iolib.summary.Summary'>\n",
       "\"\"\"\n",
       "                           Logit Regression Results                           \n",
       "==============================================================================\n",
       "Dep. Variable:                      Y   No. Observations:                96935\n",
       "Model:                          Logit   Df Residuals:                    96931\n",
       "Method:                           MLE   Df Model:                            3\n",
       "Date:                Wed, 12 Jul 2017   Pseudo R-squ.:                 0.08648\n",
       "Time:                        15:58:02   Log-Likelihood:                -17601.\n",
       "converged:                       True   LL-Null:                       -19267.\n",
       "                                        LLR p-value:                     0.000\n",
       "==============================================================================\n",
       "                 coef    std err          z      P>|z|      [0.025      0.975]\n",
       "------------------------------------------------------------------------------\n",
       "Intercept     -3.6742      0.044    -83.620      0.000      -3.760      -3.588\n",
       "d1             0.0074      0.003      2.785      0.005       0.002       0.013\n",
       "A             -0.5273      0.054     -9.820      0.000      -0.633      -0.422\n",
       "d3             0.1137      0.002     52.561      0.000       0.109       0.118\n",
       "==============================================================================\n",
       "\"\"\""
      ]
     },
     "execution_count": 11,
     "metadata": {},
     "output_type": "execute_result"
    }
   ],
   "source": [
    "f = \"Y ~ d1 + A + d3\"\n",
    "y, X = patsy.dmatrices(f, df.reset_index(), return_type = \"dataframe\")\n",
    "n_logit = sm.Logit(y, X, missing=\"raise\")\n",
    "n_result = n_logit.fit(maxiter=300)\n",
    "n_result.summary()"
   ]
  },
  {
   "cell_type": "code",
   "execution_count": 12,
   "metadata": {
    "collapsed": false
   },
   "outputs": [
    {
     "name": "stdout",
     "output_type": "stream",
     "text": [
      "Warning: Maximum number of iterations has been exceeded.\n",
      "         Current function value: 0.113021\n",
      "         Iterations: 300\n"
     ]
    },
    {
     "name": "stderr",
     "output_type": "stream",
     "text": [
      "/home/clancia/.local/lib/python3.5/site-packages/statsmodels/base/model.py:496: ConvergenceWarning: Maximum Likelihood optimization failed to converge. Check mle_retvals\n",
      "  \"Check mle_retvals\", ConvergenceWarning)\n"
     ]
    },
    {
     "data": {
      "text/html": [
       "<table class=\"simpletable\">\n",
       "<caption>Logit Regression Results</caption>\n",
       "<tr>\n",
       "  <th>Dep. Variable:</th>         <td>Y</td>        <th>  No. Observations:  </th>  <td> 29239</td>  \n",
       "</tr>\n",
       "<tr>\n",
       "  <th>Model:</th>               <td>Logit</td>      <th>  Df Residuals:      </th>  <td> 29199</td>  \n",
       "</tr>\n",
       "<tr>\n",
       "  <th>Method:</th>               <td>MLE</td>       <th>  Df Model:          </th>  <td>    39</td>  \n",
       "</tr>\n",
       "<tr>\n",
       "  <th>Date:</th>          <td>Wed, 12 Jul 2017</td> <th>  Pseudo R-squ.:     </th>  <td>0.01418</td> \n",
       "</tr>\n",
       "<tr>\n",
       "  <th>Time:</th>              <td>16:03:35</td>     <th>  Log-Likelihood:    </th> <td> -3304.6</td> \n",
       "</tr>\n",
       "<tr>\n",
       "  <th>converged:</th>           <td>False</td>      <th>  LL-Null:           </th> <td> -3352.2</td> \n",
       "</tr>\n",
       "<tr>\n",
       "  <th> </th>                      <td> </td>        <th>  LLR p-value:       </th> <td>1.385e-06</td>\n",
       "</tr>\n",
       "</table>\n",
       "<table class=\"simpletable\">\n",
       "<tr>\n",
       "         <td></td>           <th>coef</th>     <th>std err</th>      <th>z</th>      <th>P>|z|</th>  <th>[0.025</th>    <th>0.975]</th>  \n",
       "</tr>\n",
       "<tr>\n",
       "  <th>Intercept</th>      <td>   -3.8918</td> <td>    0.101</td> <td>  -38.527</td> <td> 0.000</td> <td>   -4.090</td> <td>   -3.694</td>\n",
       "</tr>\n",
       "<tr>\n",
       "  <th>C(visit)[T.1]</th>  <td>    0.4547</td> <td>    0.151</td> <td>    3.001</td> <td> 0.003</td> <td>    0.158</td> <td>    0.752</td>\n",
       "</tr>\n",
       "<tr>\n",
       "  <th>C(visit)[T.2]</th>  <td>    0.2448</td> <td>    0.162</td> <td>    1.511</td> <td> 0.131</td> <td>   -0.073</td> <td>    0.562</td>\n",
       "</tr>\n",
       "<tr>\n",
       "  <th>C(visit)[T.3]</th>  <td>    0.4749</td> <td>    0.153</td> <td>    3.102</td> <td> 0.002</td> <td>    0.175</td> <td>    0.775</td>\n",
       "</tr>\n",
       "<tr>\n",
       "  <th>C(visit)[T.4]</th>  <td>    0.4539</td> <td>    0.155</td> <td>    2.921</td> <td> 0.003</td> <td>    0.149</td> <td>    0.759</td>\n",
       "</tr>\n",
       "<tr>\n",
       "  <th>C(visit)[T.5]</th>  <td>   -0.5807</td> <td>    0.222</td> <td>   -2.621</td> <td> 0.009</td> <td>   -1.015</td> <td>   -0.146</td>\n",
       "</tr>\n",
       "<tr>\n",
       "  <th>C(visit)[T.6]</th>  <td>    0.1322</td> <td>    0.213</td> <td>    0.620</td> <td> 0.535</td> <td>   -0.286</td> <td>    0.550</td>\n",
       "</tr>\n",
       "<tr>\n",
       "  <th>C(visit)[T.7]</th>  <td>    0.1199</td> <td>    0.216</td> <td>    0.555</td> <td> 0.579</td> <td>   -0.304</td> <td>    0.544</td>\n",
       "</tr>\n",
       "<tr>\n",
       "  <th>C(visit)[T.8]</th>  <td>    0.1791</td> <td>    0.213</td> <td>    0.839</td> <td> 0.401</td> <td>   -0.239</td> <td>    0.597</td>\n",
       "</tr>\n",
       "<tr>\n",
       "  <th>C(visit)[T.9]</th>  <td>    0.3048</td> <td>    0.206</td> <td>    1.482</td> <td> 0.138</td> <td>   -0.098</td> <td>    0.708</td>\n",
       "</tr>\n",
       "<tr>\n",
       "  <th>C(visit)[T.10]</th> <td>   -0.1477</td> <td>    0.247</td> <td>   -0.598</td> <td> 0.550</td> <td>   -0.632</td> <td>    0.337</td>\n",
       "</tr>\n",
       "<tr>\n",
       "  <th>C(visit)[T.11]</th> <td>   -0.4617</td> <td>    0.370</td> <td>   -1.248</td> <td> 0.212</td> <td>   -1.187</td> <td>    0.263</td>\n",
       "</tr>\n",
       "<tr>\n",
       "  <th>C(visit)[T.12]</th> <td>    0.3198</td> <td>    0.266</td> <td>    1.203</td> <td> 0.229</td> <td>   -0.201</td> <td>    0.841</td>\n",
       "</tr>\n",
       "<tr>\n",
       "  <th>C(visit)[T.13]</th> <td>    0.2197</td> <td>    0.280</td> <td>    0.784</td> <td> 0.433</td> <td>   -0.330</td> <td>    0.769</td>\n",
       "</tr>\n",
       "<tr>\n",
       "  <th>C(visit)[T.14]</th> <td>    0.3741</td> <td>    0.266</td> <td>    1.406</td> <td> 0.160</td> <td>   -0.147</td> <td>    0.896</td>\n",
       "</tr>\n",
       "<tr>\n",
       "  <th>C(visit)[T.15]</th> <td>   -0.8409</td> <td>    0.460</td> <td>   -1.826</td> <td> 0.068</td> <td>   -1.743</td> <td>    0.061</td>\n",
       "</tr>\n",
       "<tr>\n",
       "  <th>C(visit)[T.16]</th> <td>   -0.4933</td> <td>    0.513</td> <td>   -0.961</td> <td> 0.336</td> <td>   -1.499</td> <td>    0.512</td>\n",
       "</tr>\n",
       "<tr>\n",
       "  <th>C(visit)[T.17]</th> <td>    0.0883</td> <td>    0.395</td> <td>    0.223</td> <td> 0.823</td> <td>   -0.686</td> <td>    0.863</td>\n",
       "</tr>\n",
       "<tr>\n",
       "  <th>C(visit)[T.18]</th> <td>    0.7497</td> <td>    0.301</td> <td>    2.493</td> <td> 0.013</td> <td>    0.160</td> <td>    1.339</td>\n",
       "</tr>\n",
       "<tr>\n",
       "  <th>C(visit)[T.19]</th> <td>    0.2911</td> <td>    0.372</td> <td>    0.782</td> <td> 0.434</td> <td>   -0.439</td> <td>    1.021</td>\n",
       "</tr>\n",
       "<tr>\n",
       "  <th>C(visit)[T.20]</th> <td>   -0.3883</td> <td>    0.513</td> <td>   -0.756</td> <td> 0.450</td> <td>   -1.395</td> <td>    0.618</td>\n",
       "</tr>\n",
       "<tr>\n",
       "  <th>C(visit)[T.21]</th> <td>    0.4199</td> <td>    0.465</td> <td>    0.903</td> <td> 0.367</td> <td>   -0.492</td> <td>    1.332</td>\n",
       "</tr>\n",
       "<tr>\n",
       "  <th>C(visit)[T.22]</th> <td>    0.6402</td> <td>    0.428</td> <td>    1.495</td> <td> 0.135</td> <td>   -0.199</td> <td>    1.479</td>\n",
       "</tr>\n",
       "<tr>\n",
       "  <th>C(visit)[T.23]</th> <td>    0.6796</td> <td>    0.428</td> <td>    1.586</td> <td> 0.113</td> <td>   -0.160</td> <td>    1.519</td>\n",
       "</tr>\n",
       "<tr>\n",
       "  <th>C(visit)[T.24]</th> <td>    1.1474</td> <td>    0.358</td> <td>    3.201</td> <td> 0.001</td> <td>    0.445</td> <td>    1.850</td>\n",
       "</tr>\n",
       "<tr>\n",
       "  <th>C(visit)[T.25]</th> <td>   -1.0427</td> <td>    1.009</td> <td>   -1.034</td> <td> 0.301</td> <td>   -3.020</td> <td>    0.934</td>\n",
       "</tr>\n",
       "<tr>\n",
       "  <th>C(visit)[T.26]</th> <td>    0.6210</td> <td>    0.597</td> <td>    1.040</td> <td> 0.298</td> <td>   -0.549</td> <td>    1.791</td>\n",
       "</tr>\n",
       "<tr>\n",
       "  <th>C(visit)[T.27]</th> <td>    0.9606</td> <td>    0.523</td> <td>    1.837</td> <td> 0.066</td> <td>   -0.064</td> <td>    1.986</td>\n",
       "</tr>\n",
       "<tr>\n",
       "  <th>C(visit)[T.28]</th> <td>    0.7138</td> <td>    0.598</td> <td>    1.194</td> <td> 0.233</td> <td>   -0.458</td> <td>    1.886</td>\n",
       "</tr>\n",
       "<tr>\n",
       "  <th>C(visit)[T.29]</th> <td>    0.7563</td> <td>    0.598</td> <td>    1.264</td> <td> 0.206</td> <td>   -0.416</td> <td>    1.929</td>\n",
       "</tr>\n",
       "<tr>\n",
       "  <th>C(visit)[T.30]</th> <td>    0.8008</td> <td>    0.599</td> <td>    1.337</td> <td> 0.181</td> <td>   -0.373</td> <td>    1.975</td>\n",
       "</tr>\n",
       "<tr>\n",
       "  <th>C(visit)[T.31]</th> <td>    1.6582</td> <td>    0.616</td> <td>    2.693</td> <td> 0.007</td> <td>    0.451</td> <td>    2.865</td>\n",
       "</tr>\n",
       "<tr>\n",
       "  <th>C(visit)[T.32]</th> <td>    0.5960</td> <td>    1.023</td> <td>    0.582</td> <td> 0.560</td> <td>   -1.410</td> <td>    2.602</td>\n",
       "</tr>\n",
       "<tr>\n",
       "  <th>C(visit)[T.33]</th> <td>  -18.7809</td> <td> 1.61e+04</td> <td>   -0.001</td> <td> 0.999</td> <td>-3.16e+04</td> <td> 3.16e+04</td>\n",
       "</tr>\n",
       "<tr>\n",
       "  <th>C(visit)[T.34]</th> <td>    1.8124</td> <td>    0.621</td> <td>    2.920</td> <td> 0.003</td> <td>    0.596</td> <td>    3.029</td>\n",
       "</tr>\n",
       "<tr>\n",
       "  <th>C(visit)[T.35]</th> <td>    0.7563</td> <td>    1.026</td> <td>    0.737</td> <td> 0.461</td> <td>   -1.256</td> <td>    2.768</td>\n",
       "</tr>\n",
       "<tr>\n",
       "  <th>C(visit)[T.36]</th> <td>  -18.2844</td> <td> 1.89e+04</td> <td>   -0.001</td> <td> 0.999</td> <td> -3.7e+04</td> <td>  3.7e+04</td>\n",
       "</tr>\n",
       "<tr>\n",
       "  <th>C(visit)[T.37]</th> <td>  -18.2844</td> <td> 1.89e+04</td> <td>   -0.001</td> <td> 0.999</td> <td> -3.7e+04</td> <td>  3.7e+04</td>\n",
       "</tr>\n",
       "<tr>\n",
       "  <th>C(visit)[T.38]</th> <td>    2.2824</td> <td>    0.781</td> <td>    2.922</td> <td> 0.003</td> <td>    0.751</td> <td>    3.813</td>\n",
       "</tr>\n",
       "<tr>\n",
       "  <th>C(visit)[T.39]</th> <td>    1.6946</td> <td>    1.059</td> <td>    1.600</td> <td> 0.110</td> <td>   -0.381</td> <td>    3.770</td>\n",
       "</tr>\n",
       "</table>"
      ],
      "text/plain": [
       "<class 'statsmodels.iolib.summary.Summary'>\n",
       "\"\"\"\n",
       "                           Logit Regression Results                           \n",
       "==============================================================================\n",
       "Dep. Variable:                      Y   No. Observations:                29239\n",
       "Model:                          Logit   Df Residuals:                    29199\n",
       "Method:                           MLE   Df Model:                           39\n",
       "Date:                Wed, 12 Jul 2017   Pseudo R-squ.:                 0.01418\n",
       "Time:                        16:03:35   Log-Likelihood:                -3304.6\n",
       "converged:                      False   LL-Null:                       -3352.2\n",
       "                                        LLR p-value:                 1.385e-06\n",
       "==================================================================================\n",
       "                     coef    std err          z      P>|z|      [0.025      0.975]\n",
       "----------------------------------------------------------------------------------\n",
       "Intercept         -3.8918      0.101    -38.527      0.000      -4.090      -3.694\n",
       "C(visit)[T.1]      0.4547      0.151      3.001      0.003       0.158       0.752\n",
       "C(visit)[T.2]      0.2448      0.162      1.511      0.131      -0.073       0.562\n",
       "C(visit)[T.3]      0.4749      0.153      3.102      0.002       0.175       0.775\n",
       "C(visit)[T.4]      0.4539      0.155      2.921      0.003       0.149       0.759\n",
       "C(visit)[T.5]     -0.5807      0.222     -2.621      0.009      -1.015      -0.146\n",
       "C(visit)[T.6]      0.1322      0.213      0.620      0.535      -0.286       0.550\n",
       "C(visit)[T.7]      0.1199      0.216      0.555      0.579      -0.304       0.544\n",
       "C(visit)[T.8]      0.1791      0.213      0.839      0.401      -0.239       0.597\n",
       "C(visit)[T.9]      0.3048      0.206      1.482      0.138      -0.098       0.708\n",
       "C(visit)[T.10]    -0.1477      0.247     -0.598      0.550      -0.632       0.337\n",
       "C(visit)[T.11]    -0.4617      0.370     -1.248      0.212      -1.187       0.263\n",
       "C(visit)[T.12]     0.3198      0.266      1.203      0.229      -0.201       0.841\n",
       "C(visit)[T.13]     0.2197      0.280      0.784      0.433      -0.330       0.769\n",
       "C(visit)[T.14]     0.3741      0.266      1.406      0.160      -0.147       0.896\n",
       "C(visit)[T.15]    -0.8409      0.460     -1.826      0.068      -1.743       0.061\n",
       "C(visit)[T.16]    -0.4933      0.513     -0.961      0.336      -1.499       0.512\n",
       "C(visit)[T.17]     0.0883      0.395      0.223      0.823      -0.686       0.863\n",
       "C(visit)[T.18]     0.7497      0.301      2.493      0.013       0.160       1.339\n",
       "C(visit)[T.19]     0.2911      0.372      0.782      0.434      -0.439       1.021\n",
       "C(visit)[T.20]    -0.3883      0.513     -0.756      0.450      -1.395       0.618\n",
       "C(visit)[T.21]     0.4199      0.465      0.903      0.367      -0.492       1.332\n",
       "C(visit)[T.22]     0.6402      0.428      1.495      0.135      -0.199       1.479\n",
       "C(visit)[T.23]     0.6796      0.428      1.586      0.113      -0.160       1.519\n",
       "C(visit)[T.24]     1.1474      0.358      3.201      0.001       0.445       1.850\n",
       "C(visit)[T.25]    -1.0427      1.009     -1.034      0.301      -3.020       0.934\n",
       "C(visit)[T.26]     0.6210      0.597      1.040      0.298      -0.549       1.791\n",
       "C(visit)[T.27]     0.9606      0.523      1.837      0.066      -0.064       1.986\n",
       "C(visit)[T.28]     0.7138      0.598      1.194      0.233      -0.458       1.886\n",
       "C(visit)[T.29]     0.7563      0.598      1.264      0.206      -0.416       1.929\n",
       "C(visit)[T.30]     0.8008      0.599      1.337      0.181      -0.373       1.975\n",
       "C(visit)[T.31]     1.6582      0.616      2.693      0.007       0.451       2.865\n",
       "C(visit)[T.32]     0.5960      1.023      0.582      0.560      -1.410       2.602\n",
       "C(visit)[T.33]   -18.7809   1.61e+04     -0.001      0.999   -3.16e+04    3.16e+04\n",
       "C(visit)[T.34]     1.8124      0.621      2.920      0.003       0.596       3.029\n",
       "C(visit)[T.35]     0.7563      1.026      0.737      0.461      -1.256       2.768\n",
       "C(visit)[T.36]   -18.2844   1.89e+04     -0.001      0.999    -3.7e+04     3.7e+04\n",
       "C(visit)[T.37]   -18.2844   1.89e+04     -0.001      0.999    -3.7e+04     3.7e+04\n",
       "C(visit)[T.38]     2.2824      0.781      2.922      0.003       0.751       3.813\n",
       "C(visit)[T.39]     1.6946      1.059      1.600      0.110      -0.381       3.770\n",
       "==================================================================================\n",
       "\"\"\""
      ]
     },
     "execution_count": 12,
     "metadata": {},
     "output_type": "execute_result"
    }
   ],
   "source": [
    "# logistic regression model to get parameters to calcualte weights\n",
    "# for both the denominator (d) and the numerator (n)\n",
    "df[\"As\"] = df.groupby(level=\"patid\")['A'].cumsum()\n",
    "df2 = df[df[\"As\"] <= 1].copy(deep=True)\n",
    "df2 = df2.reset_index()\n",
    "# df2.groupby('A')['A_1'].value_counts()\n",
    "\n",
    "#numerator\n",
    "fn = \"Y ~ C(visit)\"\n",
    "y, X = patsy.dmatrices(fn, df2, return_type = \"dataframe\")\n",
    "# n_reg = [\"intercept\"]\n",
    "# n_logit = sm.Logit(df2['A'], df2[n_reg])\n",
    "n_logit = sm.Logit(y, X, missing=\"raise\")\n",
    "n_result = n_logit.fit(maxiter=300)\n",
    "n_result.summary()\n",
    "\n",
    "\n",
    "# # denominator\n",
    "# d_reg = [\"intercept\", \"L\"]\n",
    "# d_logit = sm.Logit(df2['A'], df2[d_reg])\n",
    "# d_result = d_logit.fit(maxiter=100)\n",
    "# d_result.summary()\n",
    "\n",
    "# # numerator and denominator probabailities\n",
    "# df2[\"pn\"] = n_result.predict(df2[n_reg])\n",
    "# df2[\"pd\"] = d_result.predict(df2[d_reg])\n",
    "\n",
    "# # if A == 0, change probabilities to 1 - prob\n",
    "# df2['pn2'] = np.where(df2['A']==0, (1 - df2[\"pn\"]), df2[\"pn\"])\n",
    "# df2['pd2'] = np.where(df2['A']==0, (1 - df2[\"pd\"]), df2[\"pd\"])\n",
    "\n",
    "# # construct stabilized weights, don't forget to group by\n",
    "# df2['cpn'] = df2.groupby(df2.index.get_level_values(0))['pn2'].cumprod()\n",
    "# df2['cpd'] = df2.groupby(df2.index.get_level_values(0))['pd2'].cumprod()\n",
    "# df2['sw'] = df2['cpn']/df2['cpd']\n",
    "\n",
    "# #combine df and df2\n",
    "# df[\"sw\"] = np.nan\n",
    "# df[\"sw2\"] = np.nan\n",
    "# df.loc[df2.index, \"sw\"] = df2[\"sw\"]\n",
    "# df[\"sw\"] = df[\"sw\"].fillna(method=\"pad\")\n",
    "\n",
    "# # try terminal weight\n",
    "# def func(x):\n",
    "#     x[\"sw2\"] = x.iloc[-1][\"sw\"]\n",
    "#     return x\n",
    "\n",
    "# df = df.groupby(level=\"patid\").apply(func)\n",
    "# df.loc[(4,slice(None)),:]"
   ]
  },
  {
   "cell_type": "code",
   "execution_count": 13,
   "metadata": {
    "collapsed": false
   },
   "outputs": [
    {
     "name": "stdout",
     "output_type": "stream",
     "text": [
      "Cycle 33: 0.037% events\n",
      "Cycle 36: 0.032% events\n",
      "Cycle 37: 0.035% events\n"
     ]
    }
   ],
   "source": [
    "# The problem of the regression is that at certain cycles you have too few \n",
    "df3 = df2.set_index(['patid', 'visit'])\n",
    "df3 = df3.sort_index()\n",
    "for i in [33, 36, 37]:\n",
    "    tmp = df3.loc[(slice(None, i)), 'Y']\n",
    "    print('Cycle {:d}: {:.3f}% events'.format(i, sum(tmp)/len(tmp)))"
   ]
  },
  {
   "cell_type": "code",
   "execution_count": null,
   "metadata": {
    "collapsed": true
   },
   "outputs": [],
   "source": [
    "# pushes variables from python to rpy2\n",
    "%Rpush df\n",
    "%R head(df)"
   ]
  },
  {
   "cell_type": "code",
   "execution_count": null,
   "metadata": {
    "collapsed": true
   },
   "outputs": [],
   "source": [
    "%R mod = glm(Y ~ d1 + A + d3, data =df, family = binomial(\"logit\"))\n",
    "%R mod_sw = glm(Y ~ d1 + A + d3, weights = sw, data =df, family = binomial(\"logit\"))\n",
    "%R mod_sw2 = glm(Y ~ d1 + A + d3, weights = sw2, data =df, family = binomial(\"logit\"))\n",
    "%Rpull mod\n",
    "%Rpull mod_sw\n",
    "%Rpull mod_sw2"
   ]
  },
  {
   "cell_type": "code",
   "execution_count": null,
   "metadata": {
    "collapsed": true
   },
   "outputs": [],
   "source": [
    "print(mod)\n",
    "print(mod_sw)\n",
    "print(mod_sw2)"
   ]
  },
  {
   "cell_type": "code",
   "execution_count": null,
   "metadata": {
    "collapsed": true
   },
   "outputs": [],
   "source": [
    "df.reset.index\n",
    "patsy - formulas like in R"
   ]
  }
 ],
 "metadata": {
  "kernelspec": {
   "display_name": "Python 3",
   "language": "python",
   "name": "python3"
  },
  "language_info": {
   "codemirror_mode": {
    "name": "ipython",
    "version": 3
   },
   "file_extension": ".py",
   "mimetype": "text/x-python",
   "name": "python",
   "nbconvert_exporter": "python",
   "pygments_lexer": "ipython3",
   "version": "3.6.0"
  }
 },
 "nbformat": 4,
 "nbformat_minor": 2
}
